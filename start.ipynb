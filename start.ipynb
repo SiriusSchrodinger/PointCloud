{
 "cells": [
  {
   "cell_type": "code",
   "execution_count": 1,
   "metadata": {},
   "outputs": [],
   "source": [
    "import h5py\n",
    "import torch\n",
    "from pykeops.torch import LazyTensor\n",
    "import matplotlib\n",
    "import matplotlib.pyplot as plt\n",
    "from mpl_toolkits.mplot3d import Axes3D\n",
    "from sklearn.mixture import GaussianMixture\n",
    "from matplotlib.patches import Ellipse\n",
    "import numpy as np\n",
    "from math import pi, cos, sin\n",
    "from scipy.integrate import quad"
   ]
  },
  {
   "cell_type": "code",
   "execution_count": 2,
   "metadata": {},
   "outputs": [],
   "source": [
    "f = h5py.File('./MNIST data/train_0.h5', 'r')\n",
    "data = f['data']\n",
    "label = f['label']"
   ]
  },
  {
   "cell_type": "code",
   "execution_count": 3,
   "metadata": {},
   "outputs": [],
   "source": [
    "# parameters\n",
    "numOfClass = 10\n",
    "numOfImagesEachClass = 100\n",
    "numOfGaussian = 10\n",
    "eta = 0.9\n",
    "epsilon = 0.1"
   ]
  },
  {
   "cell_type": "code",
   "execution_count": 5,
   "metadata": {},
   "outputs": [],
   "source": [
    "# data cleaning: choose images from each of the classes\n",
    "selectedData, selectedLabel = ImageChoosing(numOfImagesEachClass, numOfClass)\n",
    "\n",
    "# putting 1000 images together\n",
    "finalData = np.zeros((256 * numOfImagesEachClass * numOfClass, 4))\n",
    "finalData = selectedData.reshape((256 * numOfImagesEachClass * numOfClass, 4))"
   ]
  },
  {
   "cell_type": "code",
   "execution_count": 6,
   "metadata": {
    "scrolled": true
   },
   "outputs": [
    {
     "data": {
      "text/plain": [
       "tensor([[[ 4.3534e-02,  1.0462e-12, -1.2681e-02, -8.3743e-04],\n",
       "         [ 1.0462e-12,  1.0000e-06,  1.0893e-10, -6.5424e-13],\n",
       "         [-1.2681e-02,  1.0893e-10,  1.1686e-01,  2.4895e-05],\n",
       "         [-8.3743e-04, -6.5424e-13,  2.4895e-05,  1.7499e-03]],\n",
       "\n",
       "        [[ 4.2709e-02, -1.1817e-11, -1.6273e-02, -5.4185e-03],\n",
       "         [-1.1817e-11,  1.0000e-06,  1.3627e-11,  2.8190e-12],\n",
       "         [-1.6273e-02,  1.3627e-11,  1.3136e-01,  4.1727e-03],\n",
       "         [-5.4185e-03,  2.8190e-12,  4.1727e-03,  4.8257e-02]],\n",
       "\n",
       "        [[ 1.5700e-01,  6.9776e-12, -1.5606e-02, -4.3025e-03],\n",
       "         [ 6.9776e-12,  1.0000e-06,  4.0864e-11, -5.6317e-12],\n",
       "         [-1.5606e-02,  4.0864e-11,  1.1202e-01, -1.9629e-03],\n",
       "         [-4.3025e-03, -5.6317e-12, -1.9629e-03,  5.9523e-03]],\n",
       "\n",
       "        [[ 5.1556e-02, -8.2271e-12,  2.9351e-03,  3.8695e-05],\n",
       "         [-8.2271e-12,  1.0000e-06,  3.5085e-11, -2.4916e-13],\n",
       "         [ 2.9351e-03,  3.5085e-11,  4.8580e-02,  6.0292e-06],\n",
       "         [ 3.8695e-05, -2.4916e-13,  6.0292e-06,  1.4599e-05]],\n",
       "\n",
       "        [[ 3.0316e-02, -4.4705e-11, -2.8004e-03,  7.3334e-06],\n",
       "         [-4.4705e-11,  1.0000e-06,  2.1062e-10,  2.7252e-13],\n",
       "         [-2.8004e-03,  2.1062e-10,  9.4832e-02, -1.0424e-05],\n",
       "         [ 7.3334e-06,  2.7252e-13, -1.0424e-05,  1.6575e-05]],\n",
       "\n",
       "        [[ 1.0585e-01, -1.2914e-10, -2.9394e-03,  3.8945e-03],\n",
       "         [-1.2914e-10,  1.0000e-06,  2.8303e-11,  2.0329e-12],\n",
       "         [-2.9394e-03,  2.8303e-11,  6.6253e-02,  3.7282e-05],\n",
       "         [ 3.8945e-03,  2.0329e-12,  3.7282e-05,  4.6810e-02]],\n",
       "\n",
       "        [[ 9.3075e-02,  1.3906e-11, -7.3128e-03, -3.1623e-05],\n",
       "         [ 1.3906e-11,  1.0000e-06,  1.3182e-11,  2.2083e-13],\n",
       "         [-7.3128e-03,  1.3182e-11,  4.8726e-02, -8.0862e-05],\n",
       "         [-3.1623e-05,  2.2083e-13, -8.0862e-05,  1.3773e-05]],\n",
       "\n",
       "        [[ 7.6866e-02, -3.9542e-11, -1.2525e-02,  1.1648e-03],\n",
       "         [-3.9542e-11,  1.0000e-06,  8.4470e-11,  2.6285e-13],\n",
       "         [-1.2525e-02,  8.4470e-11,  1.0849e-01, -7.4454e-04],\n",
       "         [ 1.1648e-03,  2.6285e-13, -7.4454e-04,  9.3095e-04]],\n",
       "\n",
       "        [[ 1.0231e-02,  2.0758e-11, -2.8446e-03, -9.1568e-05],\n",
       "         [ 2.0758e-11,  1.0000e-06,  4.2591e-11,  6.2039e-13],\n",
       "         [-2.8446e-03,  4.2591e-11,  9.5544e-02,  1.0913e-04],\n",
       "         [-9.1568e-05,  6.2039e-13,  1.0913e-04,  1.7072e-05]],\n",
       "\n",
       "        [[ 6.2298e-02, -8.6169e-12,  5.9580e-03,  5.2991e-03],\n",
       "         [-8.6169e-12,  1.0000e-06, -4.0916e-11, -3.3096e-11],\n",
       "         [ 5.9580e-03, -4.0916e-11,  6.6652e-02,  1.6984e-03],\n",
       "         [ 5.2991e-03, -3.3096e-11,  1.6984e-03,  4.6831e-02]]],\n",
       "       dtype=torch.float64, requires_grad=True)"
      ]
     },
     "execution_count": 6,
     "metadata": {},
     "output_type": "execute_result"
    }
   ],
   "source": [
    "# initializing C\n",
    "gmm = GaussianMixture(n_components = numOfGaussian)\n",
    "gmm.fit(finalData)\n",
    "means = gmm.means_\n",
    "covariances = gmm.covariances_\n",
    "C = covariances\n",
    "C = torch.from_numpy(C)\n",
    "C.requires_grad_(True)"
   ]
  },
  {
   "cell_type": "code",
   "execution_count": 7,
   "metadata": {},
   "outputs": [
    {
     "data": {
      "text/plain": [
       "tensor([[0.1324, 0.1768, 0.1790,  ..., 0.0979, 0.1782, 0.1330],\n",
       "        [0.0408, 0.1422, 0.1466,  ..., 0.1614, 0.1590, 0.0832],\n",
       "        [0.1412, 0.1058, 0.0808,  ..., 0.2160, 0.0536, 0.0572],\n",
       "        ...,\n",
       "        [0.1195, 0.0135, 0.1502,  ..., 0.1002, 0.0527, 0.2044],\n",
       "        [0.1815, 0.1344, 0.0175,  ..., 0.1488, 0.0451, 0.1357],\n",
       "        [0.0748, 0.1407, 0.1398,  ..., 0.1685, 0.0366, 0.1614]],\n",
       "       dtype=torch.float64, requires_grad=True)"
      ]
     },
     "execution_count": 7,
     "metadata": {},
     "output_type": "execute_result"
    }
   ],
   "source": [
    "# initializing W\n",
    "W = np.random.random_sample((numOfClass * numOfImagesEachClass, numOfGaussian))\n",
    "\n",
    "# normalizing W\n",
    "W = NormalizingW(W)\n",
    "\n",
    "W = torch.from_numpy(W)\n",
    "W.requires_grad_(True)"
   ]
  },
  {
   "cell_type": "code",
   "execution_count": 8,
   "metadata": {},
   "outputs": [],
   "source": [
    "# initializing flag\n",
    "flag = 1\n",
    "\n",
    "# compute X\n",
    "X = GenerateX()\n",
    "X = torch.from_numpy(X)\n",
    "\n",
    "# compute Xhat\n",
    "Xhat = GenerateXhat()"
   ]
  },
  {
   "cell_type": "code",
   "execution_count": 9,
   "metadata": {},
   "outputs": [
    {
     "data": {
      "text/plain": [
       "tensor(11254.5600, dtype=torch.float64, grad_fn=<TraceBackward>)"
      ]
     },
     "execution_count": 9,
     "metadata": {},
     "output_type": "execute_result"
    }
   ],
   "source": [
    "# compute objective function E\n",
    "E = GenerateE()\n",
    "E.requires_grad_(True)"
   ]
  },
  {
   "cell_type": "code",
   "execution_count": null,
   "metadata": {},
   "outputs": [],
   "source": [
    "torch.autograd.grad(E, C, create_graph = True, allow_unused = True)"
   ]
  },
  {
   "cell_type": "code",
   "execution_count": null,
   "metadata": {},
   "outputs": [],
   "source": []
  },
  {
   "cell_type": "code",
   "execution_count": 10,
   "metadata": {},
   "outputs": [
    {
     "name": "stdout",
     "output_type": "stream",
     "text": [
      "Error of iteration 1 is: tensor(11254.5600, dtype=torch.float64, grad_fn=<TraceBackward>)\n"
     ]
    },
    {
     "ename": "RuntimeError",
     "evalue": "svd_cpu: the updating process of SBDSDC did not converge (error: 3)",
     "output_type": "error",
     "traceback": [
      "\u001b[0;31m---------------------------------------------------------------------------\u001b[0m",
      "\u001b[0;31mRuntimeError\u001b[0m                              Traceback (most recent call last)",
      "\u001b[0;32m<ipython-input-10-ba26f0496285>\u001b[0m in \u001b[0;36m<module>\u001b[0;34m\u001b[0m\n\u001b[1;32m     16\u001b[0m     \u001b[0;32mfor\u001b[0m \u001b[0mj\u001b[0m \u001b[0;32min\u001b[0m \u001b[0mrange\u001b[0m\u001b[0;34m(\u001b[0m\u001b[0mnumOfGaussian\u001b[0m\u001b[0;34m)\u001b[0m\u001b[0;34m:\u001b[0m\u001b[0;34m\u001b[0m\u001b[0;34m\u001b[0m\u001b[0m\n\u001b[1;32m     17\u001b[0m         \u001b[0mYCNew\u001b[0m\u001b[0;34m[\u001b[0m\u001b[0mj\u001b[0m\u001b[0;34m]\u001b[0m \u001b[0;34m=\u001b[0m \u001b[0mExponentialMap\u001b[0m\u001b[0;34m(\u001b[0m\u001b[0mC\u001b[0m\u001b[0;34m[\u001b[0m\u001b[0mj\u001b[0m\u001b[0;34m]\u001b[0m\u001b[0;34m,\u001b[0m \u001b[0;34m-\u001b[0m \u001b[0meta\u001b[0m \u001b[0;34m*\u001b[0m \u001b[0mC\u001b[0m\u001b[0;34m.\u001b[0m\u001b[0mgrad\u001b[0m\u001b[0;34m[\u001b[0m\u001b[0mj\u001b[0m\u001b[0;34m]\u001b[0m\u001b[0;34m)\u001b[0m\u001b[0;34m\u001b[0m\u001b[0;34m\u001b[0m\u001b[0m\n\u001b[0;32m---> 18\u001b[0;31m         \u001b[0mC\u001b[0m\u001b[0;34m[\u001b[0m\u001b[0mj\u001b[0m\u001b[0;34m]\u001b[0m \u001b[0;34m=\u001b[0m \u001b[0mExponentialMap\u001b[0m\u001b[0;34m(\u001b[0m\u001b[0mYCNew\u001b[0m\u001b[0;34m[\u001b[0m\u001b[0mj\u001b[0m\u001b[0;34m]\u001b[0m\u001b[0;34m,\u001b[0m \u001b[0mgama\u001b[0m \u001b[0;34m*\u001b[0m \u001b[0mLogMap\u001b[0m\u001b[0;34m(\u001b[0m\u001b[0mYCNew\u001b[0m\u001b[0;34m[\u001b[0m\u001b[0mj\u001b[0m\u001b[0;34m]\u001b[0m\u001b[0;34m,\u001b[0m \u001b[0mYC\u001b[0m\u001b[0;34m[\u001b[0m\u001b[0mj\u001b[0m\u001b[0;34m]\u001b[0m\u001b[0;34m)\u001b[0m\u001b[0;34m)\u001b[0m\u001b[0;34m\u001b[0m\u001b[0;34m\u001b[0m\u001b[0m\n\u001b[0m\u001b[1;32m     19\u001b[0m     \u001b[0mYC\u001b[0m \u001b[0;34m=\u001b[0m \u001b[0mYCNew\u001b[0m\u001b[0;34m\u001b[0m\u001b[0;34m\u001b[0m\u001b[0m\n\u001b[1;32m     20\u001b[0m     \u001b[0mE\u001b[0m \u001b[0;34m=\u001b[0m \u001b[0mGenerateE\u001b[0m\u001b[0;34m(\u001b[0m\u001b[0;34m)\u001b[0m\u001b[0;34m\u001b[0m\u001b[0;34m\u001b[0m\u001b[0m\n",
      "\u001b[0;32m<ipython-input-4-84889c809361>\u001b[0m in \u001b[0;36mLogMap\u001b[0;34m(x, Y)\u001b[0m\n\u001b[1;32m     69\u001b[0m \u001b[0;34m\u001b[0m\u001b[0m\n\u001b[1;32m     70\u001b[0m \u001b[0;32mdef\u001b[0m \u001b[0mLogMap\u001b[0m\u001b[0;34m(\u001b[0m\u001b[0mx\u001b[0m\u001b[0;34m,\u001b[0m \u001b[0mY\u001b[0m\u001b[0;34m)\u001b[0m\u001b[0;34m:\u001b[0m\u001b[0;34m\u001b[0m\u001b[0;34m\u001b[0m\u001b[0m\n\u001b[0;32m---> 71\u001b[0;31m     \u001b[0;32mreturn\u001b[0m \u001b[0msqrtMatrix\u001b[0m\u001b[0;34m(\u001b[0m\u001b[0mx\u001b[0m\u001b[0;34m)\u001b[0m \u001b[0;34m*\u001b[0m \u001b[0mtorch\u001b[0m\u001b[0;34m.\u001b[0m\u001b[0mexp\u001b[0m\u001b[0;34m(\u001b[0m\u001b[0mtorch\u001b[0m\u001b[0;34m.\u001b[0m\u001b[0mmm\u001b[0m\u001b[0;34m(\u001b[0m\u001b[0mtorch\u001b[0m\u001b[0;34m.\u001b[0m\u001b[0mmm\u001b[0m\u001b[0;34m(\u001b[0m\u001b[0mtorch\u001b[0m\u001b[0;34m.\u001b[0m\u001b[0minverse\u001b[0m\u001b[0;34m(\u001b[0m\u001b[0msqrtMatrix\u001b[0m\u001b[0;34m(\u001b[0m\u001b[0mx\u001b[0m\u001b[0;34m)\u001b[0m\u001b[0;34m)\u001b[0m\u001b[0;34m,\u001b[0m \u001b[0mV\u001b[0m\u001b[0;34m)\u001b[0m\u001b[0;34m,\u001b[0m \u001b[0mtorch\u001b[0m\u001b[0;34m.\u001b[0m\u001b[0minverse\u001b[0m\u001b[0;34m(\u001b[0m\u001b[0msqrtMatrix\u001b[0m\u001b[0;34m(\u001b[0m\u001b[0mx\u001b[0m\u001b[0;34m)\u001b[0m\u001b[0;34m)\u001b[0m\u001b[0;34m,\u001b[0m \u001b[0;34m)\u001b[0m\u001b[0;34m)\u001b[0m \u001b[0;34m*\u001b[0m \u001b[0msqrtMatrix\u001b[0m\u001b[0;34m(\u001b[0m\u001b[0mx\u001b[0m\u001b[0;34m)\u001b[0m\u001b[0;34m\u001b[0m\u001b[0;34m\u001b[0m\u001b[0m\n\u001b[0m\u001b[1;32m     72\u001b[0m \u001b[0;34m\u001b[0m\u001b[0m\n\u001b[1;32m     73\u001b[0m \u001b[0;34m\u001b[0m\u001b[0m\n",
      "\u001b[0;32m<ipython-input-4-84889c809361>\u001b[0m in \u001b[0;36msqrtMatrix\u001b[0;34m(matrix)\u001b[0m\n\u001b[1;32m     55\u001b[0m \u001b[0;34m\u001b[0m\u001b[0m\n\u001b[1;32m     56\u001b[0m \u001b[0;32mdef\u001b[0m \u001b[0msqrtMatrix\u001b[0m\u001b[0;34m(\u001b[0m\u001b[0mmatrix\u001b[0m\u001b[0;34m)\u001b[0m\u001b[0;34m:\u001b[0m\u001b[0;34m\u001b[0m\u001b[0;34m\u001b[0m\u001b[0m\n\u001b[0;32m---> 57\u001b[0;31m     \u001b[0mu\u001b[0m\u001b[0;34m,\u001b[0m \u001b[0ms\u001b[0m\u001b[0;34m,\u001b[0m \u001b[0mvt\u001b[0m \u001b[0;34m=\u001b[0m \u001b[0mtorch\u001b[0m\u001b[0;34m.\u001b[0m\u001b[0msvd\u001b[0m\u001b[0;34m(\u001b[0m\u001b[0mmatrix\u001b[0m\u001b[0;34m)\u001b[0m\u001b[0;34m\u001b[0m\u001b[0;34m\u001b[0m\u001b[0m\n\u001b[0m\u001b[1;32m     58\u001b[0m     \u001b[0mnewS\u001b[0m \u001b[0;34m=\u001b[0m \u001b[0mtorch\u001b[0m\u001b[0;34m.\u001b[0m\u001b[0msqrt\u001b[0m\u001b[0;34m(\u001b[0m\u001b[0mtorch\u001b[0m\u001b[0;34m.\u001b[0m\u001b[0mdiag\u001b[0m\u001b[0;34m(\u001b[0m\u001b[0ms\u001b[0m\u001b[0;34m)\u001b[0m\u001b[0;34m)\u001b[0m\u001b[0;34m\u001b[0m\u001b[0;34m\u001b[0m\u001b[0m\n\u001b[1;32m     59\u001b[0m     \u001b[0;32mreturn\u001b[0m \u001b[0mtorch\u001b[0m\u001b[0;34m.\u001b[0m\u001b[0mmm\u001b[0m\u001b[0;34m(\u001b[0m\u001b[0mtorch\u001b[0m\u001b[0;34m.\u001b[0m\u001b[0mmm\u001b[0m\u001b[0;34m(\u001b[0m\u001b[0mu\u001b[0m\u001b[0;34m,\u001b[0m \u001b[0mnewS\u001b[0m\u001b[0;34m)\u001b[0m\u001b[0;34m,\u001b[0m \u001b[0mvt\u001b[0m\u001b[0;34m)\u001b[0m\u001b[0;34m\u001b[0m\u001b[0;34m\u001b[0m\u001b[0m\n",
      "\u001b[0;31mRuntimeError\u001b[0m: svd_cpu: the updating process of SBDSDC did not converge (error: 3)"
     ]
    }
   ],
   "source": [
    "# begin gradient descent\n",
    "lambda_ = 1\n",
    "YW = W\n",
    "YC = C\n",
    "\n",
    "while True:\n",
    "    print(\"Error of iteration\", flag, \"is:\", E)\n",
    "    EOld = E\n",
    "    lambdaNew_ = (1 + np.sqrt(1 + 4 * lambda_^2)) / 2\n",
    "    gama = (1 - lambdaNew_) / lambda_\n",
    "    E.backward(retain_graph = True, create_graph = True)\n",
    "    YWNew = W - eta * W.grad\n",
    "    W = (1 - gama) * YWNew + gama * YW\n",
    "    YW = YWNew\n",
    "    YCNew = YC\n",
    "    for j in range(numOfGaussian):\n",
    "        YCNew[j] = ExponentialMap(C[j], - eta * C.grad[j])\n",
    "        C[j] = ExponentialMap(YCNew[j], gama * LogMap(YCNew[j], YC[j]))\n",
    "    YC = YCNew\n",
    "    E = GenerateE()\n",
    "    if np.abs(E - EOld) < eta:\n",
    "        break\n",
    "    flag += 1"
   ]
  },
  {
   "cell_type": "code",
   "execution_count": 4,
   "metadata": {},
   "outputs": [],
   "source": [
    "# helper functions\n",
    "def ImageChoosing(numEach, numOfClass):\n",
    "    selectedData = np.zeros((numEach * numOfClass, 256, 4))\n",
    "    selectedLabel = np.zeros(numEach * numOfClass)\n",
    "    count = np.zeros(numOfClass, dtype = int)\n",
    "    for i in range(label.size):\n",
    "        thisData = data[i]\n",
    "        thisLabel = label[i]\n",
    "        thisCount = count[thisLabel]\n",
    "        if thisCount < 100:\n",
    "            selectedData[thisLabel * 100 + thisCount] = data[i]\n",
    "            selectedLabel[thisLabel * 100 + thisCount] = label[i]\n",
    "            count[thisLabel] += 1\n",
    "        else:\n",
    "            exit = True\n",
    "            for j in range(10):\n",
    "                if count[j] < 100:\n",
    "                    exit = False\n",
    "            if exit:\n",
    "                break\n",
    "    return selectedData, selectedLabel\n",
    "\n",
    "def NormalizingW(W):\n",
    "    for i in range(W.shape[0]):\n",
    "        sumOfW = np.sum(W[i])\n",
    "        for j in range(W.shape[1]):\n",
    "            W[i][j] = W[i][j] / sumOfW\n",
    "    return W\n",
    "\n",
    "def GenerateX():\n",
    "    result = np.zeros((numOfClass * numOfImagesEachClass, 4, 4))\n",
    "    for i in range(numOfClass * numOfImagesEachClass):\n",
    "        thisData = selectedData[i]\n",
    "        gmm = GaussianMixture(n_components = 1)\n",
    "        gmm.fit(thisData)\n",
    "        means = gmm.means_\n",
    "        covariances = gmm.covariances_\n",
    "        result[i] = covariances\n",
    "    return result\n",
    "\n",
    "def GenerateXhat():\n",
    "    result = np.zeros((numOfClass * numOfImagesEachClass, 4, 4))\n",
    "    result = torch.from_numpy(result)\n",
    "    for i in range(numOfClass * numOfImagesEachClass):\n",
    "        A = 0\n",
    "        B = 0\n",
    "        for j in range(numOfGaussian):\n",
    "            A += W[i][j] * C[j]\n",
    "            B += W[i][j] * torch.inverse(C[j])\n",
    "        firstTerm = sqrtMatrix(torch.inverse(B))\n",
    "        secondTerm = sqrtMatrix(torch.mm(torch.mm(sqrtMatrix(B),A),sqrtMatrix(B)))\n",
    "        thirdTerm = firstTerm\n",
    "        result[i] = torch.mm(torch.mm(firstTerm, secondTerm), thirdTerm)\n",
    "    return result\n",
    "\n",
    "def sqrtMatrix(matrix):\n",
    "    u, s, vt = torch.svd(matrix)\n",
    "    newS = torch.sqrt(torch.diag(s))\n",
    "    return torch.mm(torch.mm(u, newS), vt)\n",
    "    \n",
    "def GenerateE():\n",
    "    E = 0\n",
    "    for i in range(numOfClass * numOfImagesEachClass):\n",
    "        E += (1 / 4) * (torch.mm(torch.inverse(X[i]), Xhat[i]) + torch.mm(torch.inverse(Xhat[i]), X[i]) - 8)\n",
    "    return torch.trace(E)\n",
    "\n",
    "def ExponentialMap(x, V):\n",
    "    return sqrtMatrix(x) * torch.exp(torch.mm(torch.mm(torch.inverse(sqrtMatrix(x)), V), torch.inverse(sqrtMatrix(x)), )) * sqrtMatrix(x)\n",
    "    \n",
    "def LogMap(x, Y):\n",
    "    return sqrtMatrix(x) * torch.exp(torch.mm(torch.mm(torch.inverse(sqrtMatrix(x)), V), torch.inverse(sqrtMatrix(x)), )) * sqrtMatrix(x)\n",
    "    \n",
    "    \n",
    "    \n",
    "    "
   ]
  }
 ],
 "metadata": {
  "kernelspec": {
   "display_name": "Python 3",
   "language": "python",
   "name": "python3"
  },
  "language_info": {
   "codemirror_mode": {
    "name": "ipython",
    "version": 3
   },
   "file_extension": ".py",
   "mimetype": "text/x-python",
   "name": "python",
   "nbconvert_exporter": "python",
   "pygments_lexer": "ipython3",
   "version": "3.7.3"
  }
 },
 "nbformat": 4,
 "nbformat_minor": 2
}
