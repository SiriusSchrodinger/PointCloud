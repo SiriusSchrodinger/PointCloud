{
 "cells": [
  {
   "cell_type": "code",
   "execution_count": 1,
   "metadata": {},
   "outputs": [],
   "source": [
    "def ImageChoosing(numEach, numOfClass):\n",
    "    selectedData = np.zeros((100, 256, 4))\n",
    "    selectedLabel = np.zeros(100)\n",
    "    count = np.zeros(10, dtype = int)\n",
    "    for i in range(label.size):\n",
    "        thisData = data[i]\n",
    "        thisLabel = label[i]\n",
    "        thisCount = count[thisLabel]\n",
    "        thisCount.astype(int)\n",
    "        if thisCount < 100:\n",
    "            selectedData[thisCount] = data[i]\n",
    "            selectedLabel[thisCount] = label[i]\n",
    "            count[thisLabel] += 1\n",
    "        else:\n",
    "            exit = True\n",
    "            for j in range(10):\n",
    "                if count[j] < 100:\n",
    "                    exit = False\n",
    "            if exit:\n",
    "                break\n",
    "    return selectedData, selectedLabel"
   ]
  }
 ],
 "metadata": {
  "kernelspec": {
   "display_name": "Python 3",
   "language": "python",
   "name": "python3"
  },
  "language_info": {
   "codemirror_mode": {
    "name": "ipython",
    "version": 3
   },
   "file_extension": ".py",
   "mimetype": "text/x-python",
   "name": "python",
   "nbconvert_exporter": "python",
   "pygments_lexer": "ipython3",
   "version": "3.7.3"
  }
 },
 "nbformat": 4,
 "nbformat_minor": 2
}
