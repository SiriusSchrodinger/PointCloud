{
 "cells": [
  {
   "cell_type": "code",
   "execution_count": 105,
   "metadata": {},
   "outputs": [],
   "source": [
    "import h5py\n",
    "import torch\n",
    "from pykeops.torch import LazyTensor\n",
    "import matplotlib\n",
    "import matplotlib.pyplot as plt\n",
    "from mpl_toolkits.mplot3d import Axes3D\n",
    "from sklearn.mixture import GaussianMixture\n",
    "from matplotlib.patches import Ellipse\n",
    "import numpy as np\n",
    "from math import pi, cos, sin\n",
    "from scipy.integrate import quad"
   ]
  },
  {
   "cell_type": "code",
   "execution_count": 33,
   "metadata": {},
   "outputs": [],
   "source": [
    "f = h5py.File('./MNIST data/train_0.h5', 'r')\n",
    "data = f['data']\n",
    "label = f['label']"
   ]
  },
  {
   "cell_type": "code",
   "execution_count": 80,
   "metadata": {},
   "outputs": [],
   "source": [
    "# parameters\n",
    "numOfClass = 10\n",
    "numOfImagesEachClass = 100\n",
    "numOfGaussian = 10\n",
    "eta = #####################################\n",
    "epsilon = ######################################"
   ]
  },
  {
   "cell_type": "code",
   "execution_count": 73,
   "metadata": {},
   "outputs": [],
   "source": [
    "# data cleaning: choose images from each of the classes\n",
    "selectedData, selectedLabel = ImageChoosing(numOfImagesEachClass, numOfClass)\n",
    "\n",
    "# putting 1000 images together\n",
    "finalData = np.zeros((256 * numOfImagesEachClass, 4))\n",
    "finalData = selectedData.reshape((256 * numOfImagesEachClass, 4))"
   ]
  },
  {
   "cell_type": "code",
   "execution_count": 81,
   "metadata": {},
   "outputs": [],
   "source": [
    "# initializing C\n",
    "gmm = GaussianMixture(n_components = numOfGaussian)\n",
    "gmm.fit(finalData)\n",
    "means = gmm.means_\n",
    "covariances = gmm.covariances_"
   ]
  },
  {
   "cell_type": "code",
   "execution_count": 100,
   "metadata": {},
   "outputs": [],
   "source": [
    "# initializing W\n",
    "W = np.random.random_sample((numOfClass * numOfImagesEachClass, numOfGaussian))\n",
    "\n",
    "# normalizing W\n",
    "W = NormalizingW(W)"
   ]
  },
  {
   "cell_type": "code",
   "execution_count": 83,
   "metadata": {},
   "outputs": [],
   "source": [
    "# initializing flag\n",
    "flag = 1\n",
    "\n",
    "# compute objective function E\n",
    "for i in range(numOfClass * numOfImagesEachClass):\n",
    "    integrationIndex = i\n",
    "ans, err = quad(integrand, 0, 1)\n",
    "print ans ####################################"
   ]
  },
  {
   "cell_type": "code",
   "execution_count": null,
   "metadata": {},
   "outputs": [],
   "source": [
    "# begin gradient descent\n",
    "lambda_ = 1\n",
    "YW = W\n",
    "YCJ = np.zeros(numOfGaussian)\n",
    "for i in range(numOfGaussian):\n",
    "    YCJ[i] = C[i] #####################################\n",
    "\n",
    "while flag == 1:\n",
    "    EOld = E\n",
    "    lambdaNew_ = (1 + np.sqrt(1 + 4 * lambda_^2)) / 2\n",
    "    gama = (1 - lambdaNew_) / lambda_\n",
    "    YWNew = W - eta * ######################################\n",
    "    W = (1 - gama) * YWNew + gama * YW ######################################(yw?)\n",
    "    ######################################\n",
    "    ######################################\n",
    "    E = ######################################\n",
    "    if np.abs(E - EOld) < eta:\n",
    "        break"
   ]
  },
  {
   "cell_type": "code",
   "execution_count": null,
   "metadata": {},
   "outputs": [],
   "source": []
  },
  {
   "cell_type": "code",
   "execution_count": null,
   "metadata": {},
   "outputs": [],
   "source": []
  },
  {
   "cell_type": "code",
   "execution_count": 106,
   "metadata": {},
   "outputs": [],
   "source": [
    "# helper functions\n",
    "def ImageChoosing(numEach, numOfClass):\n",
    "    selectedData = np.zeros((100, 256, 4))\n",
    "    selectedLabel = np.zeros(100)\n",
    "    count = np.zeros(10, dtype = int)\n",
    "    for i in range(label.size):\n",
    "        thisData = data[i]\n",
    "        thisLabel = label[i]\n",
    "        thisCount = count[thisLabel]\n",
    "        thisCount.astype(int)\n",
    "        if thisCount < 100:\n",
    "            selectedData[thisCount] = data[i]\n",
    "            selectedLabel[thisCount] = label[i]\n",
    "            count[thisLabel] += 1\n",
    "        else:\n",
    "            exit = True\n",
    "            for j in range(10):\n",
    "                if count[j] < 100:\n",
    "                    exit = False\n",
    "            if exit:\n",
    "                break\n",
    "    return selectedData, selectedLabel\n",
    "\n",
    "def NormalizingW(W):\n",
    "    for i in range(W.shape[0]):\n",
    "        sumOfW = np.sum(W[i])\n",
    "        for j in range(W.shape[1]):\n",
    "            W[i][j] = W[i][j] / sumOfW\n",
    "    return W\n",
    "\n",
    "def GaussianPDF(mean, covariance, dimension, x):\n",
    "    denom = np.sqrt(np.pow(2 * np.pi, dimension) * np.linalg.det(covariance))\n",
    "    dividend = np.exp((-1 / 2) * np.dot(np.dot(np.transpose(x - mean), numpy.linalg.inv(covariance)), x - mean))\n",
    "    return dividend / denom\n",
    "\n",
    "def fHat(index, x):\n",
    "    result = 0\n",
    "    for i in range(W.shape[1]):\n",
    "        result += W[index][i] * GaussianPDF(means[i], coveriance[i], 4, x)\n",
    "    return result\n",
    "    \n",
    "def KL(x):\n",
    "    fHat = fHat() ##############################"
   ]
  }
 ],
 "metadata": {
  "kernelspec": {
   "display_name": "Python 3",
   "language": "python",
   "name": "python3"
  },
  "language_info": {
   "codemirror_mode": {
    "name": "ipython",
    "version": 3
   },
   "file_extension": ".py",
   "mimetype": "text/x-python",
   "name": "python",
   "nbconvert_exporter": "python",
   "pygments_lexer": "ipython3",
   "version": "3.7.3"
  }
 },
 "nbformat": 4,
 "nbformat_minor": 2
}
