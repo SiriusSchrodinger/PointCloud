{
 "cells": [
  {
   "cell_type": "code",
   "execution_count": 1,
   "metadata": {},
   "outputs": [],
   "source": [
    "import h5py\n",
    "import torch\n",
    "from pykeops.torch import LazyTensor\n",
    "import matplotlib\n",
    "import matplotlib.pyplot as plt\n",
    "from mpl_toolkits.mplot3d import Axes3D\n",
    "from sklearn.mixture import GaussianMixture\n",
    "from matplotlib.patches import Ellipse\n",
    "import numpy as np\n",
    "from math import pi, cos, sin\n",
    "from scipy.integrate import quad"
   ]
  },
  {
   "cell_type": "code",
   "execution_count": 2,
   "metadata": {},
   "outputs": [],
   "source": [
    "f = h5py.File('./MNIST data/train_0.h5', 'r')\n",
    "data = f['data']\n",
    "label = f['label']"
   ]
  },
  {
   "cell_type": "code",
   "execution_count": 3,
   "metadata": {},
   "outputs": [],
   "source": [
    "# parameters\n",
    "numOfClass = 10\n",
    "numOfImagesEachClass = 100\n",
    "numOfGaussian = 10\n",
    "eta = 1e-3\n",
    "epsilon = 0.1"
   ]
  },
  {
   "cell_type": "code",
   "execution_count": 5,
   "metadata": {},
   "outputs": [],
   "source": [
    "# data cleaning: choose images from each of the classes\n",
    "selectedData, selectedLabel = ImageChoosing(numOfImagesEachClass, numOfClass)\n",
    "\n",
    "# putting 1000 images together\n",
    "finalData = np.zeros((256 * numOfImagesEachClass * numOfClass, 4))\n",
    "finalData = selectedData.reshape((256 * numOfImagesEachClass * numOfClass, 4))"
   ]
  },
  {
   "cell_type": "code",
   "execution_count": 96,
   "metadata": {
    "scrolled": true
   },
   "outputs": [
    {
     "data": {
      "text/plain": [
       "tensor([[[ 1.8806e-02, -4.9455e-11,  5.6882e-03,  3.6252e-04],\n",
       "         [-4.9455e-11,  1.0000e-06,  4.0858e-11, -3.8988e-12],\n",
       "         [ 5.6882e-03,  4.0858e-11,  5.7820e-02,  4.4113e-04],\n",
       "         [ 3.6252e-04, -3.8988e-12,  4.4113e-04,  3.4537e-03]],\n",
       "\n",
       "        [[ 7.1387e-02, -5.6438e-11, -1.6222e-02,  3.3339e-03],\n",
       "         [-5.6438e-11,  1.0000e-06, -1.4415e-11, -2.8987e-11],\n",
       "         [-1.6222e-02, -1.4415e-11,  1.3372e-01, -6.4505e-03],\n",
       "         [ 3.3339e-03, -2.8987e-11, -6.4505e-03,  4.3832e-02]],\n",
       "\n",
       "        [[ 1.5329e-01,  3.9650e-11,  4.7828e-03,  4.4908e-05],\n",
       "         [ 3.9650e-11,  1.0000e-06,  8.7048e-11,  9.8519e-13],\n",
       "         [ 4.7828e-03,  8.7048e-11,  9.8110e-02,  3.1912e-04],\n",
       "         [ 4.4908e-05,  9.8519e-13,  3.1912e-04,  3.8033e-04]],\n",
       "\n",
       "        [[ 8.5930e-02,  1.2113e-11, -6.0961e-03, -1.6352e-03],\n",
       "         [ 1.2113e-11,  1.0000e-06,  3.9638e-11, -2.2629e-11],\n",
       "         [-6.0961e-03,  3.9638e-11,  5.5381e-02, -2.3900e-03],\n",
       "         [-1.6352e-03, -2.2629e-11, -2.3900e-03,  7.4605e-03]],\n",
       "\n",
       "        [[ 1.0944e-01,  3.8015e-11, -1.2970e-02,  1.6046e-03],\n",
       "         [ 3.8015e-11,  1.0000e-06,  4.6688e-11,  4.5842e-12],\n",
       "         [-1.2970e-02,  4.6688e-11,  5.2094e-02,  7.6627e-04],\n",
       "         [ 1.6046e-03,  4.5842e-12,  7.6627e-04,  7.1571e-03]],\n",
       "\n",
       "        [[ 1.5321e-02,  2.1123e-11, -4.6768e-04, -7.3012e-05],\n",
       "         [ 2.1123e-11,  1.0000e-06,  5.3964e-11,  3.8099e-13],\n",
       "         [-4.6768e-04,  5.3964e-11,  9.9766e-02,  1.0954e-04],\n",
       "         [-7.3012e-05,  3.8099e-13,  1.0954e-04,  1.6244e-05]],\n",
       "\n",
       "        [[ 2.6060e-02,  1.9564e-11,  6.2491e-03, -3.4402e-04],\n",
       "         [ 1.9564e-11,  1.0000e-06, -4.2855e-11, -6.6600e-12],\n",
       "         [ 6.2491e-03, -4.2855e-11,  5.4806e-02, -2.7357e-04],\n",
       "         [-3.4402e-04, -6.6600e-12, -2.7357e-04,  3.9161e-03]],\n",
       "\n",
       "        [[ 2.1605e-02, -5.3680e-11, -5.8638e-03, -7.4782e-06],\n",
       "         [-5.3680e-11,  1.0000e-06,  2.3392e-10,  1.7314e-13],\n",
       "         [-5.8638e-03,  2.3392e-10,  9.8116e-02, -5.9460e-06],\n",
       "         [-7.4782e-06,  1.7314e-13, -5.9460e-06,  1.6449e-05]],\n",
       "\n",
       "        [[ 5.7951e-02, -6.2841e-12, -1.0151e-02, -4.5482e-03],\n",
       "         [-6.2841e-12,  1.0000e-06,  1.9102e-11,  4.1893e-12],\n",
       "         [-1.0151e-02,  1.9102e-11,  1.2893e-01,  4.3061e-03],\n",
       "         [-4.5482e-03,  4.1893e-12,  4.3061e-03,  4.4599e-02]],\n",
       "\n",
       "        [[ 6.6478e-02,  8.7833e-12, -4.4408e-03, -2.0526e-05],\n",
       "         [ 8.7833e-12,  1.0000e-06,  6.9344e-11,  1.7199e-13],\n",
       "         [-4.4408e-03,  6.9344e-11,  1.1073e-01, -3.9178e-05],\n",
       "         [-2.0526e-05,  1.7199e-13, -3.9178e-05,  1.4135e-05]]],\n",
       "       dtype=torch.float64, requires_grad=True)"
      ]
     },
     "execution_count": 96,
     "metadata": {},
     "output_type": "execute_result"
    }
   ],
   "source": [
    "# initializing C\n",
    "gmm = GaussianMixture(n_components = numOfGaussian)\n",
    "gmm.fit(finalData)\n",
    "means = gmm.means_\n",
    "covariances = gmm.covariances_\n",
    "C = covariances\n",
    "C = torch.from_numpy(C)\n",
    "C.requires_grad_(True)"
   ]
  },
  {
   "cell_type": "code",
   "execution_count": 97,
   "metadata": {},
   "outputs": [
    {
     "name": "stdout",
     "output_type": "stream",
     "text": [
      "tensor([[0.0627, 0.0589, 0.0864,  ..., 0.1468, 0.1392, 0.0445],\n",
      "        [0.1665, 0.0601, 0.0083,  ..., 0.1592, 0.1635, 0.0232],\n",
      "        [0.1240, 0.0455, 0.1295,  ..., 0.1832, 0.0357, 0.1784],\n",
      "        ...,\n",
      "        [0.0531, 0.1177, 0.1193,  ..., 0.0308, 0.1203, 0.0161],\n",
      "        [0.1749, 0.0987, 0.0514,  ..., 0.1884, 0.0100, 0.1683],\n",
      "        [0.0865, 0.0011, 0.0320,  ..., 0.0924, 0.1719, 0.1789]],\n",
      "       dtype=torch.float64, requires_grad=True)\n"
     ]
    }
   ],
   "source": [
    "# initializing W\n",
    "W = np.random.random_sample((numOfClass * numOfImagesEachClass, numOfGaussian))\n",
    "\n",
    "# normalizing W\n",
    "W = NormalizingW(W)\n",
    "\n",
    "W = torch.from_numpy(W)\n",
    "W.requires_grad_(True)\n",
    "W.retain_grad()\n",
    "print(W)"
   ]
  },
  {
   "cell_type": "code",
   "execution_count": 98,
   "metadata": {},
   "outputs": [],
   "source": [
    "# initializing flag\n",
    "flag = 1\n",
    "\n",
    "# compute X\n",
    "X = GenerateX()\n",
    "X = torch.from_numpy(X)\n",
    "\n",
    "# compute Xhat\n",
    "Xhat = GenerateXhat()"
   ]
  },
  {
   "cell_type": "code",
   "execution_count": 99,
   "metadata": {},
   "outputs": [
    {
     "data": {
      "text/plain": [
       "tensor(11880.7235, dtype=torch.float64, grad_fn=<TraceBackward>)"
      ]
     },
     "execution_count": 99,
     "metadata": {},
     "output_type": "execute_result"
    }
   ],
   "source": [
    "# compute objective function E\n",
    "E = GenerateE()\n",
    "E.requires_grad_(True)"
   ]
  },
  {
   "cell_type": "code",
   "execution_count": 100,
   "metadata": {
    "scrolled": false
   },
   "outputs": [
    {
     "name": "stdout",
     "output_type": "stream",
     "text": [
      "Error of iteration 1 is: 11880.723499690754\n",
      "YCNew has negative components on the diag\n",
      "YCNew has negative components on the diag\n",
      "YCNew has negative components on the diag\n",
      "YCNew has negative components on the diag\n",
      "YCNew has negative components on the diag\n",
      "YCNew has negative components on the diag\n",
      "YCNew has negative components on the diag\n",
      "YCNew has negative components on the diag\n",
      "YCNew has negative components on the diag\n",
      "YCNew has negative components on the diag\n",
      "YCNew has negative components on the diag\n",
      "YCNew has negative components on the diag\n",
      "YCNew has negative components on the diag\n",
      "YCNew has negative components on the diag\n",
      "YCNew has negative components on the diag\n",
      "YCNew has negative components on the diag\n",
      "YCNew has negative components on the diag\n",
      "YCNew has negative components on the diag\n",
      "YCNew has negative components on the diag\n",
      "YCNew has negative components on the diag\n",
      "C has negative components on the diag\n",
      "C has negative components on the diag\n",
      "C has negative components on the diag\n",
      "C has negative components on the diag\n",
      "C has negative components on the diag\n",
      "C has negative components on the diag\n",
      "C has negative components on the diag\n",
      "C has negative components on the diag\n",
      "C has negative components on the diag\n",
      "C has negative components on the diag\n",
      "C has negative components on the diag\n",
      "C has negative components on the diag\n",
      "C has negative components on the diag\n",
      "C has negative components on the diag\n",
      "C has negative components on the diag\n",
      "C has negative components on the diag\n",
      "C has negative components on the diag\n",
      "C has negative components on the diag\n",
      "C has negative components on the diag\n",
      "C has negative components on the diag\n",
      "Error of iteration 2 is: 7681.169628853308\n"
     ]
    },
    {
     "ename": "KeyboardInterrupt",
     "evalue": "",
     "output_type": "error",
     "traceback": [
      "\u001b[0;31m---------------------------------------------------------------------------\u001b[0m",
      "\u001b[0;31mKeyboardInterrupt\u001b[0m                         Traceback (most recent call last)",
      "\u001b[0;32m<ipython-input-100-4f18e7cf4cac>\u001b[0m in \u001b[0;36m<module>\u001b[0;34m\u001b[0m\n\u001b[1;32m      9\u001b[0m     \u001b[0mgama\u001b[0m \u001b[0;34m=\u001b[0m \u001b[0;34m(\u001b[0m\u001b[0;36m1\u001b[0m \u001b[0;34m-\u001b[0m \u001b[0mlambda_\u001b[0m\u001b[0;34m)\u001b[0m \u001b[0;34m/\u001b[0m \u001b[0mlambdaNew_\u001b[0m\u001b[0;34m\u001b[0m\u001b[0;34m\u001b[0m\u001b[0m\n\u001b[1;32m     10\u001b[0m     \u001b[0mlambda_\u001b[0m \u001b[0;34m=\u001b[0m \u001b[0mlambdaNew_\u001b[0m\u001b[0;34m\u001b[0m\u001b[0;34m\u001b[0m\u001b[0m\n\u001b[0;32m---> 11\u001b[0;31m     \u001b[0mWGrad\u001b[0m \u001b[0;34m=\u001b[0m \u001b[0mtorch\u001b[0m\u001b[0;34m.\u001b[0m\u001b[0mautograd\u001b[0m\u001b[0;34m.\u001b[0m\u001b[0mgrad\u001b[0m\u001b[0;34m(\u001b[0m\u001b[0mE\u001b[0m\u001b[0;34m,\u001b[0m \u001b[0mW\u001b[0m\u001b[0;34m,\u001b[0m \u001b[0mcreate_graph\u001b[0m \u001b[0;34m=\u001b[0m \u001b[0;32mTrue\u001b[0m\u001b[0;34m,\u001b[0m \u001b[0mallow_unused\u001b[0m \u001b[0;34m=\u001b[0m \u001b[0;32mTrue\u001b[0m\u001b[0;34m)\u001b[0m\u001b[0;34m[\u001b[0m\u001b[0;36m0\u001b[0m\u001b[0;34m]\u001b[0m\u001b[0;34m\u001b[0m\u001b[0;34m\u001b[0m\u001b[0m\n\u001b[0m\u001b[1;32m     12\u001b[0m     \u001b[0mCGrad\u001b[0m \u001b[0;34m=\u001b[0m \u001b[0mtorch\u001b[0m\u001b[0;34m.\u001b[0m\u001b[0mautograd\u001b[0m\u001b[0;34m.\u001b[0m\u001b[0mgrad\u001b[0m\u001b[0;34m(\u001b[0m\u001b[0mE\u001b[0m\u001b[0;34m,\u001b[0m \u001b[0mC\u001b[0m\u001b[0;34m,\u001b[0m \u001b[0mcreate_graph\u001b[0m \u001b[0;34m=\u001b[0m \u001b[0;32mTrue\u001b[0m\u001b[0;34m,\u001b[0m \u001b[0mallow_unused\u001b[0m \u001b[0;34m=\u001b[0m \u001b[0;32mTrue\u001b[0m\u001b[0;34m)\u001b[0m\u001b[0;34m[\u001b[0m\u001b[0;36m0\u001b[0m\u001b[0;34m]\u001b[0m\u001b[0;34m\u001b[0m\u001b[0;34m\u001b[0m\u001b[0m\n\u001b[1;32m     13\u001b[0m     \u001b[0mCGrad\u001b[0m \u001b[0;34m=\u001b[0m \u001b[0mNormalizingGrad\u001b[0m\u001b[0;34m(\u001b[0m\u001b[0mCGrad\u001b[0m\u001b[0;34m)\u001b[0m\u001b[0;34m\u001b[0m\u001b[0;34m\u001b[0m\u001b[0m\n",
      "\u001b[0;32m~/anaconda3/lib/python3.7/site-packages/torch/autograd/__init__.py\u001b[0m in \u001b[0;36mgrad\u001b[0;34m(outputs, inputs, grad_outputs, retain_graph, create_graph, only_inputs, allow_unused)\u001b[0m\n\u001b[1;32m    155\u001b[0m     return Variable._execution_engine.run_backward(\n\u001b[1;32m    156\u001b[0m         \u001b[0moutputs\u001b[0m\u001b[0;34m,\u001b[0m \u001b[0mgrad_outputs\u001b[0m\u001b[0;34m,\u001b[0m \u001b[0mretain_graph\u001b[0m\u001b[0;34m,\u001b[0m \u001b[0mcreate_graph\u001b[0m\u001b[0;34m,\u001b[0m\u001b[0;34m\u001b[0m\u001b[0;34m\u001b[0m\u001b[0m\n\u001b[0;32m--> 157\u001b[0;31m         inputs, allow_unused)\n\u001b[0m\u001b[1;32m    158\u001b[0m \u001b[0;34m\u001b[0m\u001b[0m\n\u001b[1;32m    159\u001b[0m \u001b[0;34m\u001b[0m\u001b[0m\n",
      "\u001b[0;31mKeyboardInterrupt\u001b[0m: "
     ]
    }
   ],
   "source": [
    "# begin gradient descent\n",
    "lambda_ = 0\n",
    "YCNew = C\n",
    "\n",
    "while True:\n",
    "    print(\"Error of iteration\", flag, \"is:\", E.item())\n",
    "    EOld = E\n",
    "    lambdaNew_ = (1 + np.sqrt(1 + 4 * np.power(lambda_, 2))) / 2\n",
    "    gama = (1 - lambda_) / lambdaNew_\n",
    "    lambda_ = lambdaNew_\n",
    "    WGrad = torch.autograd.grad(E, W, create_graph = True, allow_unused = True)[0]\n",
    "    CGrad = torch.autograd.grad(E, C, create_graph = True, allow_unused = True)[0]\n",
    "    CGrad = NormalizingGrad(CGrad)\n",
    "    WGrad = NormalizingGrad(WGrad)\n",
    "    YWNew = W - torch.mul(WGrad, eta)\n",
    "    W = (1 - gama) * YWNew + gama * W\n",
    "    CheckW(W)\n",
    "    CheckC(C)\n",
    "    for j in range(numOfGaussian):\n",
    "        YCNew[j] = ExponentialMap(C[j], - eta * CGrad[j])\n",
    "        C[j] = ExponentialMap(YCNew[j], gama * LogMap(YCNew[j], YC[j]))\n",
    "    CheckYCNew(YCNew)\n",
    "    CheckC(C)\n",
    "    Xhat = GenerateXhat()\n",
    "    E = GenerateE()\n",
    "    if torch.abs(E - EOld) < epsilon:\n",
    "        print(\"The Final Error is:\", E)\n",
    "        break\n",
    "    flag += 1"
   ]
  },
  {
   "cell_type": "code",
   "execution_count": 95,
   "metadata": {},
   "outputs": [],
   "source": [
    "# helper functions\n",
    "def ImageChoosing(numEach, numOfClass):\n",
    "    selectedData = np.zeros((numEach * numOfClass, 256, 4))\n",
    "    selectedLabel = np.zeros(numEach * numOfClass)\n",
    "    count = np.zeros(numOfClass, dtype = int)\n",
    "    for i in range(label.size):\n",
    "        thisData = data[i]\n",
    "        thisLabel = label[i]\n",
    "        thisCount = count[thisLabel]\n",
    "        if thisCount < 100:\n",
    "            selectedData[thisLabel * 100 + thisCount] = data[i]\n",
    "            selectedLabel[thisLabel * 100 + thisCount] = label[i]\n",
    "            count[thisLabel] += 1\n",
    "        else:\n",
    "            exit = True\n",
    "            for j in range(10):\n",
    "                if count[j] < 100:\n",
    "                    exit = False\n",
    "            if exit:\n",
    "                break\n",
    "    return selectedData, selectedLabel\n",
    "\n",
    "def NormalizingW(W):\n",
    "    for i in range(W.shape[0]):\n",
    "        sumOfW = np.sum(W[i])\n",
    "        for j in range(W.shape[1]):\n",
    "            W[i][j] = W[i][j] / sumOfW\n",
    "    return W\n",
    "\n",
    "def GenerateX():\n",
    "    result = np.zeros((numOfClass * numOfImagesEachClass, 4, 4))\n",
    "    for i in range(numOfClass * numOfImagesEachClass):\n",
    "        thisData = selectedData[i]\n",
    "        gmm = GaussianMixture(n_components = 1)\n",
    "        gmm.fit(thisData)\n",
    "        means = gmm.means_\n",
    "        covariances = gmm.covariances_\n",
    "        result[i] = covariances\n",
    "    return result\n",
    "\n",
    "def GenerateXhat():\n",
    "    result = np.zeros((numOfClass * numOfImagesEachClass, 4, 4))\n",
    "    result = torch.from_numpy(result)\n",
    "    for i in range(numOfClass * numOfImagesEachClass):\n",
    "        A = 0\n",
    "        B = 0\n",
    "        for j in range(numOfGaussian):\n",
    "            A += W[i][j] * C[j]\n",
    "            B += W[i][j] * torch.inverse(C[j])\n",
    "        firstTerm = sqrtMatrix(torch.inverse(B))\n",
    "        secondTerm = sqrtMatrix(torch.mm(torch.mm(sqrtMatrix(B),A),sqrtMatrix(B)))\n",
    "        thirdTerm = firstTerm\n",
    "        result[i] = torch.mm(torch.mm(firstTerm, secondTerm), thirdTerm)\n",
    "    return result\n",
    "\n",
    "def sqrtMatrix(matrix):\n",
    "    u, s, v = torch.svd(matrix)\n",
    "    newS = torch.sqrt(torch.diag(s))\n",
    "    return torch.mm(torch.mm(u, newS), v.t())\n",
    "    \n",
    "def GenerateE():\n",
    "    E = 0\n",
    "    for i in range(numOfClass * numOfImagesEachClass):\n",
    "        E += (1 / 4) * (torch.mm(torch.inverse(X[i]), Xhat[i]) + torch.mm(torch.inverse(Xhat[i]), X[i]) - 8)\n",
    "    return torch.trace(E)\n",
    "\n",
    "def ExponentialMap(x, V):\n",
    "    u, s, v = torch.svd(V)\n",
    "    temp = torch.exp(s)\n",
    "    newS = torch.diag(temp)\n",
    "    midTerm = torch.mm(torch.mm(u, newS), v.t())\n",
    "    return torch.mm(torch.mm(sqrtMatrix(x), midTerm), sqrtMatrix(x))\n",
    "\n",
    "def LogMap(x, Y):\n",
    "    u, s, v = torch.svd(Y)\n",
    "    newS = torch.diag(torch.log(s))\n",
    "    midTerm = torch.mm(torch.mm(u, newS), v.t())\n",
    "    return torch.mm(torch.mm(sqrtMatrix(x), midTerm), sqrtMatrix(x))\n",
    "    \n",
    "def NormalizingGrad(grad):\n",
    "    for i in range(grad.shape[0]):\n",
    "        sumOfGrad = torch.sum(grad[i])\n",
    "        for j in range(grad.shape[1]):\n",
    "            grad[i][j] = grad[i][j] / sumOfGrad\n",
    "    return grad\n",
    "\n",
    "def CheckW(W):\n",
    "    for i in range(W.shape[0]):\n",
    "        for j in range(W.shape[1]):\n",
    "            if W[i][j] < 0:\n",
    "                print(\"W has negative components\")\n",
    "\n",
    "def CheckC(C):\n",
    "    for i in range(C.shape[0]):\n",
    "        for j in range(C.shape[1]):\n",
    "            if C[i][j][j] < 0:\n",
    "                print(\"C has negative components on the diag\")\n",
    "\n",
    "def CheckYCNew(C):\n",
    "    for i in range(C.shape[0]):\n",
    "        for j in range(C.shape[1]):\n",
    "            if C[i][j][j] < 0:\n",
    "                print(\"YCNew has negative components on the diag\")"
   ]
  },
  {
   "cell_type": "code",
   "execution_count": 71,
   "metadata": {},
   "outputs": [
    {
     "name": "stdout",
     "output_type": "stream",
     "text": [
      "tensor([[ 1.9865e-02,  2.6940e-09, -3.7102e-03,  7.1840e-05],\n",
      "        [ 2.6940e-09, -1.0000e-06, -4.1178e-10,  5.8940e-12],\n",
      "        [-3.7102e-03, -4.1178e-10, -1.2908e-01,  4.2776e-05],\n",
      "        [ 7.1840e-05,  5.8940e-12,  4.2776e-05,  1.3353e-05]],\n",
      "       dtype=torch.float64, grad_fn=<SelectBackward>)\n"
     ]
    }
   ],
   "source": [
    "print(C[0])"
   ]
  }
 ],
 "metadata": {
  "kernelspec": {
   "display_name": "Python 3",
   "language": "python",
   "name": "python3"
  },
  "language_info": {
   "codemirror_mode": {
    "name": "ipython",
    "version": 3
   },
   "file_extension": ".py",
   "mimetype": "text/x-python",
   "name": "python",
   "nbconvert_exporter": "python",
   "pygments_lexer": "ipython3",
   "version": "3.7.3"
  }
 },
 "nbformat": 4,
 "nbformat_minor": 2
}
