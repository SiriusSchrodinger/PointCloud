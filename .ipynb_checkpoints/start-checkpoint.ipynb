{
 "cells": [
  {
   "cell_type": "code",
   "execution_count": 1,
   "metadata": {},
   "outputs": [],
   "source": [
    "import h5py\n",
    "import torch\n",
    "from pykeops.torch import LazyTensor\n",
    "import matplotlib\n",
    "import matplotlib.pyplot as plt\n",
    "from mpl_toolkits.mplot3d import Axes3D\n",
    "from sklearn.mixture import GaussianMixture\n",
    "from matplotlib.patches import Ellipse\n",
    "import numpy as np\n",
    "from math import pi, cos, sin\n",
    "from scipy.integrate import quad"
   ]
  },
  {
   "cell_type": "code",
   "execution_count": 2,
   "metadata": {},
   "outputs": [],
   "source": [
    "f = h5py.File('./MNIST data/train_0.h5', 'r')\n",
    "data = f['data']\n",
    "label = f['label']"
   ]
  },
  {
   "cell_type": "code",
   "execution_count": 3,
   "metadata": {},
   "outputs": [],
   "source": [
    "# parameters\n",
    "numOfClass = 10\n",
    "numOfImagesEachClass = 100\n",
    "numOfGaussian = 10\n",
    "eta = 0.9\n",
    "epsilon = 0.1"
   ]
  },
  {
   "cell_type": "code",
   "execution_count": 5,
   "metadata": {},
   "outputs": [],
   "source": [
    "# data cleaning: choose images from each of the classes\n",
    "selectedData, selectedLabel = ImageChoosing(numOfImagesEachClass, numOfClass)\n",
    "\n",
    "# putting 1000 images together\n",
    "finalData = np.zeros((256 * numOfImagesEachClass * numOfClass, 4))\n",
    "finalData = selectedData.reshape((256 * numOfImagesEachClass * numOfClass, 4))"
   ]
  },
  {
   "cell_type": "code",
   "execution_count": 6,
   "metadata": {
    "scrolled": true
   },
   "outputs": [
    {
     "data": {
      "text/plain": [
       "tensor([[[ 8.0157e-02, -1.2806e-11, -1.2423e-02, -7.9514e-06],\n",
       "         [-1.2806e-11,  1.0000e-06,  7.1197e-11,  1.5149e-13],\n",
       "         [-1.2423e-02,  7.1197e-11,  1.1307e-01, -3.5915e-05],\n",
       "         [-7.9514e-06,  1.5149e-13, -3.5915e-05,  1.4227e-05]],\n",
       "\n",
       "        [[ 2.4754e-02, -5.5033e-11, -9.0513e-03,  6.3079e-06],\n",
       "         [-5.5033e-11,  1.0000e-06,  2.3975e-10,  4.5027e-14],\n",
       "         [-9.0513e-03,  2.3975e-10,  1.0171e-01, -1.7361e-05],\n",
       "         [ 6.3079e-06,  4.5027e-14, -1.7361e-05,  1.6571e-05]],\n",
       "\n",
       "        [[ 3.1947e-02, -4.4786e-11,  4.0124e-03,  1.0072e-03],\n",
       "         [-4.4786e-11,  1.0000e-06,  6.1836e-11,  4.7169e-12],\n",
       "         [ 4.0124e-03,  6.1836e-11,  5.7615e-02, -3.7454e-04],\n",
       "         [ 1.0072e-03,  4.7169e-12, -3.7454e-04,  1.2136e-03]],\n",
       "\n",
       "        [[ 8.0707e-02, -7.4472e-11, -1.6705e-02,  7.7261e-04],\n",
       "         [-7.4472e-11,  1.0000e-06,  4.6358e-12, -2.1334e-11],\n",
       "         [-1.6705e-02,  4.6358e-12,  1.3294e-01, -4.9966e-03],\n",
       "         [ 7.7261e-04, -2.1334e-11, -4.9966e-03,  4.5417e-02]],\n",
       "\n",
       "        [[ 9.7335e-03,  2.1464e-11, -1.9398e-03, -9.9884e-05],\n",
       "         [ 2.1464e-11,  1.0000e-06,  4.3103e-11,  6.5377e-13],\n",
       "         [-1.9398e-03,  4.3103e-11,  9.6290e-02,  1.3418e-04],\n",
       "         [-9.9884e-05,  6.5377e-13,  1.3418e-04,  1.7065e-05]],\n",
       "\n",
       "        [[ 1.2284e-01,  6.2353e-11,  1.3124e-02,  4.0422e-04],\n",
       "         [ 6.2353e-11,  1.0000e-06,  1.7329e-11, -2.3780e-13],\n",
       "         [ 1.3124e-02,  1.7329e-11,  8.6358e-02,  6.1236e-04],\n",
       "         [ 4.0422e-04, -2.3780e-13,  6.1236e-04,  1.0016e-03]],\n",
       "\n",
       "        [[ 1.3398e-01,  3.7640e-11, -1.0908e-02,  4.5228e-03],\n",
       "         [ 3.7640e-11,  1.0000e-06,  3.6078e-11,  2.4696e-12],\n",
       "         [-1.0908e-02,  3.6078e-11,  4.7732e-02,  2.4665e-03],\n",
       "         [ 4.5228e-03,  2.4696e-12,  2.4665e-03,  7.3056e-03]],\n",
       "\n",
       "        [[ 4.6372e-02, -6.9157e-12, -8.5217e-03, -7.7762e-03],\n",
       "         [-6.9157e-12,  1.0000e-06,  1.8916e-11,  5.4630e-12],\n",
       "         [-8.5217e-03,  1.8916e-11,  1.2968e-01,  6.1944e-03],\n",
       "         [-7.7762e-03,  5.4630e-12,  6.1944e-03,  4.6815e-02]],\n",
       "\n",
       "        [[ 7.8723e-02,  1.2144e-11, -2.0072e-02, -7.1841e-03],\n",
       "         [ 1.2144e-11,  1.0000e-06,  2.5798e-11, -2.4322e-11],\n",
       "         [-2.0072e-02,  2.5798e-11,  6.5287e-02, -4.6569e-04],\n",
       "         [-7.1841e-03, -2.4322e-11, -4.6569e-04,  7.6579e-03]],\n",
       "\n",
       "        [[ 1.4426e-02,  4.3475e-11,  6.1825e-03,  1.4660e-04],\n",
       "         [ 4.3475e-11,  1.0000e-06,  3.3864e-11, -2.3566e-11],\n",
       "         [ 6.1825e-03,  3.3864e-11,  7.0832e-02, -7.3693e-04],\n",
       "         [ 1.4660e-04, -2.3566e-11, -7.3693e-04,  5.8962e-03]]],\n",
       "       dtype=torch.float64, requires_grad=True)"
      ]
     },
     "execution_count": 6,
     "metadata": {},
     "output_type": "execute_result"
    }
   ],
   "source": [
    "# initializing C\n",
    "gmm = GaussianMixture(n_components = numOfGaussian)\n",
    "gmm.fit(finalData)\n",
    "means = gmm.means_\n",
    "covariances = gmm.covariances_\n",
    "C = covariances\n",
    "C = torch.from_numpy(C)\n",
    "C.requires_grad_(True)"
   ]
  },
  {
   "cell_type": "code",
   "execution_count": 7,
   "metadata": {},
   "outputs": [
    {
     "data": {
      "text/plain": [
       "tensor([[0.1099, 0.0911, 0.1299,  ..., 0.1857, 0.1497, 0.0599],\n",
       "        [0.1683, 0.0404, 0.1136,  ..., 0.0098, 0.1215, 0.1185],\n",
       "        [0.0159, 0.1235, 0.1178,  ..., 0.1141, 0.0392, 0.0899],\n",
       "        ...,\n",
       "        [0.1249, 0.1600, 0.2105,  ..., 0.1121, 0.1596, 0.0388],\n",
       "        [0.1120, 0.0924, 0.1688,  ..., 0.1930, 0.0943, 0.0821],\n",
       "        [0.0265, 0.0783, 0.1987,  ..., 0.0949, 0.0860, 0.0420]],\n",
       "       dtype=torch.float64, requires_grad=True)"
      ]
     },
     "execution_count": 7,
     "metadata": {},
     "output_type": "execute_result"
    }
   ],
   "source": [
    "# initializing W\n",
    "W = np.random.random_sample((numOfClass * numOfImagesEachClass, numOfGaussian))\n",
    "\n",
    "# normalizing W\n",
    "W = NormalizingW(W)\n",
    "\n",
    "W = torch.from_numpy(W)\n",
    "W.requires_grad_(True)"
   ]
  },
  {
   "cell_type": "code",
   "execution_count": 8,
   "metadata": {},
   "outputs": [],
   "source": [
    "# initializing flag\n",
    "flag = 1\n",
    "\n",
    "# compute X\n",
    "X = GenerateX()\n",
    "X = torch.from_numpy(X)\n",
    "\n",
    "# compute Xhat\n",
    "Xhat = GenerateXhat()"
   ]
  },
  {
   "cell_type": "code",
   "execution_count": 9,
   "metadata": {},
   "outputs": [
    {
     "data": {
      "text/plain": [
       "tensor(-3223.1974, dtype=torch.float64, grad_fn=<TraceBackward>)"
      ]
     },
     "execution_count": 9,
     "metadata": {},
     "output_type": "execute_result"
    }
   ],
   "source": [
    "# compute objective function E\n",
    "E = GenerateE()\n",
    "E.requires_grad_(True)"
   ]
  },
  {
   "cell_type": "code",
   "execution_count": null,
   "metadata": {},
   "outputs": [],
   "source": [
    "torch.autograd.grad(E, C, create_graph = True, allow_unused = True)"
   ]
  },
  {
   "cell_type": "code",
   "execution_count": null,
   "metadata": {},
   "outputs": [],
   "source": []
  },
  {
   "cell_type": "code",
   "execution_count": 10,
   "metadata": {},
   "outputs": [
    {
     "name": "stdout",
     "output_type": "stream",
     "text": [
      "Error of iteration 1 is: tensor(-3223.1974, dtype=torch.float64, grad_fn=<TraceBackward>)\n"
     ]
    },
    {
     "ename": "NameError",
     "evalue": "name 'YCNew' is not defined",
     "output_type": "error",
     "traceback": [
      "\u001b[0;31m---------------------------------------------------------------------------\u001b[0m",
      "\u001b[0;31mNameError\u001b[0m                                 Traceback (most recent call last)",
      "\u001b[0;32m<ipython-input-10-c88be494e95f>\u001b[0m in \u001b[0;36m<module>\u001b[0;34m\u001b[0m\n\u001b[1;32m     14\u001b[0m     \u001b[0mYW\u001b[0m \u001b[0;34m=\u001b[0m \u001b[0mYWNew\u001b[0m\u001b[0;34m\u001b[0m\u001b[0;34m\u001b[0m\u001b[0m\n\u001b[1;32m     15\u001b[0m     \u001b[0;32mfor\u001b[0m \u001b[0mj\u001b[0m \u001b[0;32min\u001b[0m \u001b[0mrange\u001b[0m\u001b[0;34m(\u001b[0m\u001b[0mnumOfGaussian\u001b[0m\u001b[0;34m)\u001b[0m\u001b[0;34m:\u001b[0m\u001b[0;34m\u001b[0m\u001b[0;34m\u001b[0m\u001b[0m\n\u001b[0;32m---> 16\u001b[0;31m         \u001b[0mYCNew\u001b[0m\u001b[0;34m[\u001b[0m\u001b[0mj\u001b[0m\u001b[0;34m]\u001b[0m \u001b[0;34m=\u001b[0m \u001b[0mExponentialMap\u001b[0m\u001b[0;34m(\u001b[0m\u001b[0mC\u001b[0m\u001b[0;34m[\u001b[0m\u001b[0mj\u001b[0m\u001b[0;34m]\u001b[0m\u001b[0;34m,\u001b[0m \u001b[0;34m-\u001b[0m \u001b[0meta\u001b[0m \u001b[0;34m*\u001b[0m \u001b[0mC\u001b[0m\u001b[0;34m.\u001b[0m\u001b[0mgrad\u001b[0m\u001b[0;34m[\u001b[0m\u001b[0mj\u001b[0m\u001b[0;34m]\u001b[0m\u001b[0;34m)\u001b[0m\u001b[0;34m\u001b[0m\u001b[0;34m\u001b[0m\u001b[0m\n\u001b[0m\u001b[1;32m     17\u001b[0m         \u001b[0mC\u001b[0m\u001b[0;34m[\u001b[0m\u001b[0mj\u001b[0m\u001b[0;34m]\u001b[0m \u001b[0;34m=\u001b[0m \u001b[0mExponentialMap\u001b[0m\u001b[0;34m(\u001b[0m\u001b[0mYCNew\u001b[0m\u001b[0;34m[\u001b[0m\u001b[0mj\u001b[0m\u001b[0;34m]\u001b[0m\u001b[0;34m,\u001b[0m \u001b[0mgama\u001b[0m \u001b[0;34m*\u001b[0m \u001b[0mLogMap\u001b[0m\u001b[0;34m(\u001b[0m\u001b[0mYCNew\u001b[0m\u001b[0;34m[\u001b[0m\u001b[0mj\u001b[0m\u001b[0;34m]\u001b[0m\u001b[0;34m,\u001b[0m \u001b[0mYC\u001b[0m\u001b[0;34m[\u001b[0m\u001b[0mj\u001b[0m\u001b[0;34m]\u001b[0m\u001b[0;34m)\u001b[0m\u001b[0;34m)\u001b[0m\u001b[0;34m\u001b[0m\u001b[0;34m\u001b[0m\u001b[0m\n\u001b[1;32m     18\u001b[0m     \u001b[0mYC\u001b[0m \u001b[0;34m=\u001b[0m \u001b[0mYCNew\u001b[0m\u001b[0;34m\u001b[0m\u001b[0;34m\u001b[0m\u001b[0m\n",
      "\u001b[0;31mNameError\u001b[0m: name 'YCNew' is not defined"
     ]
    }
   ],
   "source": [
    "# begin gradient descent\n",
    "lambda_ = 1\n",
    "YW = W\n",
    "YC = C\n",
    "\n",
    "while True:\n",
    "    print(\"Error of iteration\", flag, \"is:\", E)\n",
    "    EOld = E\n",
    "    lambdaNew_ = (1 + np.sqrt(1 + 4 * lambda_^2)) / 2\n",
    "    gama = (1 - lambdaNew_) / lambda_\n",
    "    E.backward(retain_graph = True, create_graph = True)\n",
    "    YWNew = W - eta * W.grad\n",
    "    W = (1 - gama) * YWNew + gama * YW\n",
    "    YW = YWNew\n",
    "    YCNew = YC\n",
    "    for j in range(numOfGaussian):\n",
    "        YCNew[j] = ExponentialMap(C[j], - eta * C.grad[j])\n",
    "        C[j] = ExponentialMap(YCNew[j], gama * LogMap(YCNew[j], YC[j]))\n",
    "    YC = YCNew\n",
    "    E = GenerateE()\n",
    "    if np.abs(E - EOld) < eta:\n",
    "        break\n",
    "    flag += 1"
   ]
  },
  {
   "cell_type": "code",
   "execution_count": null,
   "metadata": {},
   "outputs": [],
   "source": [
    "# From numpy\n",
    "x = np.array([1., 2., 3.]) #Only Tensors of floating point dtype can require gradients\n",
    "x = torch.from_numpy(x)\n",
    "# Now enable gradient \n",
    "x.requires_grad_(True)\n",
    "z = x ** 2\n",
    "z.requires_grad_(True)\n",
    "# _ above makes the change in-place (its a common pytorch thing)\n",
    "y = 2 * torch.dot(x, z)\n",
    "grad = torch.autograd.grad(y, x, allow_unused = True)\n",
    "print(grad)"
   ]
  },
  {
   "cell_type": "code",
   "execution_count": 4,
   "metadata": {},
   "outputs": [],
   "source": [
    "# helper functions\n",
    "def ImageChoosing(numEach, numOfClass):\n",
    "    selectedData = np.zeros((numEach * numOfClass, 256, 4))\n",
    "    selectedLabel = np.zeros(numEach * numOfClass)\n",
    "    count = np.zeros(numOfClass, dtype = int)\n",
    "    for i in range(label.size):\n",
    "        thisData = data[i]\n",
    "        thisLabel = label[i]\n",
    "        thisCount = count[thisLabel]\n",
    "        if thisCount < 100:\n",
    "            selectedData[thisLabel * 100 + thisCount] = data[i]\n",
    "            selectedLabel[thisLabel * 100 + thisCount] = label[i]\n",
    "            count[thisLabel] += 1\n",
    "        else:\n",
    "            exit = True\n",
    "            for j in range(10):\n",
    "                if count[j] < 100:\n",
    "                    exit = False\n",
    "            if exit:\n",
    "                break\n",
    "    return selectedData, selectedLabel\n",
    "\n",
    "def NormalizingW(W):\n",
    "    for i in range(W.shape[0]):\n",
    "        sumOfW = np.sum(W[i])\n",
    "        for j in range(W.shape[1]):\n",
    "            W[i][j] = W[i][j] / sumOfW\n",
    "    return W\n",
    "\n",
    "def GenerateX():\n",
    "    result = np.zeros((numOfClass * numOfImagesEachClass, 4, 4))\n",
    "    for i in range(numOfClass * numOfImagesEachClass):\n",
    "        thisData = selectedData[i]\n",
    "        gmm = GaussianMixture(n_components = 1)\n",
    "        gmm.fit(thisData)\n",
    "        means = gmm.means_\n",
    "        covariances = gmm.covariances_\n",
    "        result[i] = covariances\n",
    "    return result\n",
    "\n",
    "def GenerateXhat():\n",
    "    result = np.zeros((numOfClass * numOfImagesEachClass, 4, 4))\n",
    "    result = torch.from_numpy(result)\n",
    "    for i in range(numOfClass * numOfImagesEachClass):\n",
    "        A = 0\n",
    "        B = 0\n",
    "        for j in range(numOfGaussian):\n",
    "            A += W[i][j] * C[j]\n",
    "            B += W[i][j] * torch.inverse(C[j])\n",
    "        firstTerm = sqrtMatrix(torch.inverse(B))\n",
    "        secondTerm = sqrtMatrix(torch.mm(torch.mm(sqrtMatrix(B),A),sqrtMatrix(B)))\n",
    "        thirdTerm = firstTerm\n",
    "        result[i] = torch.mm(torch.mm(firstTerm, secondTerm), thirdTerm)\n",
    "    return result\n",
    "\n",
    "def sqrtMatrix(matrix):\n",
    "    u, s, vt = torch.svd(matrix)\n",
    "    newS = torch.sqrt(torch.diag(s))\n",
    "    return torch.mm(torch.mm(u, newS), vt)\n",
    "    \n",
    "def GenerateE():\n",
    "    E = 0\n",
    "    for i in range(numOfClass * numOfImagesEachClass):\n",
    "        E += (1 / 4) * (torch.mm(torch.inverse(X[i]), Xhat[i]) + torch.mm(torch.inverse(Xhat[i]), X[i]) - 8)\n",
    "    return torch.trace(E)\n",
    "\n",
    "def ExponentialMap(x, V):\n",
    "    return sqrtMatrix(x) * torch.exp(torch.mm(torch.mm(torch.inverse(sqrtMatrix(x)), V), torch.inverse(sqrtMatrix(x)), )) * sqrtMatrix(x)\n",
    "    \n",
    "def LogMap(x, Y):\n",
    "    return sqrtMatrix(x) * torch.exp(torch.mm(torch.mm(torch.inverse(sqrtMatrix(x)), V), torch.inverse(sqrtMatrix(x)), )) * sqrtMatrix(x)\n",
    "    \n",
    "    \n",
    "    \n",
    "    "
   ]
  }
 ],
 "metadata": {
  "kernelspec": {
   "display_name": "Python 3",
   "language": "python",
   "name": "python3"
  },
  "language_info": {
   "codemirror_mode": {
    "name": "ipython",
    "version": 3
   },
   "file_extension": ".py",
   "mimetype": "text/x-python",
   "name": "python",
   "nbconvert_exporter": "python",
   "pygments_lexer": "ipython3",
   "version": "3.7.3"
  }
 },
 "nbformat": 4,
 "nbformat_minor": 2
}
