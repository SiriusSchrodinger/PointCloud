{
 "cells": [
  {
   "cell_type": "code",
   "execution_count": 105,
   "metadata": {},
   "outputs": [],
   "source": [
    "import h5py\n",
    "import torch\n",
    "from pykeops.torch import LazyTensor\n",
    "import matplotlib\n",
    "import matplotlib.pyplot as plt\n",
    "from mpl_toolkits.mplot3d import Axes3D\n",
    "from sklearn.mixture import GaussianMixture\n",
    "from matplotlib.patches import Ellipse\n",
    "import numpy as np\n",
    "from math import pi, cos, sin\n",
    "from scipy.integrate import quad"
   ]
  },
  {
   "cell_type": "code",
   "execution_count": 33,
   "metadata": {},
   "outputs": [],
   "source": [
    "f = h5py.File('./MNIST data/train_0.h5', 'r')\n",
    "data = f['data']\n",
    "label = f['label']"
   ]
  },
  {
   "cell_type": "code",
   "execution_count": 148,
   "metadata": {},
   "outputs": [],
   "source": [
    "# parameters\n",
    "numOfClass = 10\n",
    "numOfImagesEachClass = 100\n",
    "numOfGaussian = 10\n",
    "eta = 0.9\n",
    "epsilon = 0.1"
   ]
  },
  {
   "cell_type": "code",
   "execution_count": 109,
   "metadata": {},
   "outputs": [],
   "source": [
    "# data cleaning: choose images from each of the classes\n",
    "selectedData, selectedLabel = ImageChoosing(numOfImagesEachClass, numOfClass)\n",
    "\n",
    "# putting 1000 images together\n",
    "finalData = np.zeros((256 * numOfImagesEachClass * numOfClass, 4))\n",
    "finalData = selectedData.reshape((256 * numOfImagesEachClass * numOfClass, 4))"
   ]
  },
  {
   "cell_type": "code",
   "execution_count": 120,
   "metadata": {},
   "outputs": [],
   "source": [
    "# initializing C\n",
    "gmm = GaussianMixture(n_components = numOfGaussian)\n",
    "gmm.fit(finalData)\n",
    "means = gmm.means_\n",
    "covariances = gmm.covariances_\n",
    "C = covariances"
   ]
  },
  {
   "cell_type": "code",
   "execution_count": 100,
   "metadata": {},
   "outputs": [],
   "source": [
    "# initializing W\n",
    "W = np.random.random_sample((numOfClass * numOfImagesEachClass, numOfGaussian))\n",
    "\n",
    "# normalizing W\n",
    "W = NormalizingW(W)"
   ]
  },
  {
   "cell_type": "code",
   "execution_count": 140,
   "metadata": {},
   "outputs": [],
   "source": [
    "# initializing flag\n",
    "flag = 1\n",
    "\n",
    "# compute X\n",
    "X = GenerateX()\n",
    "\n",
    "# compute Xhat\n",
    "Xhat = GenerateXhat()"
   ]
  },
  {
   "cell_type": "code",
   "execution_count": 146,
   "metadata": {},
   "outputs": [],
   "source": [
    "# compute objective function E\n",
    "E = GenerateE()"
   ]
  },
  {
   "cell_type": "code",
   "execution_count": 147,
   "metadata": {},
   "outputs": [
    {
     "name": "stdout",
     "output_type": "stream",
     "text": [
      "[[ -470.96468441 -2000.00000012 -2088.30908105 -1960.1263591 ]\n",
      " [-1999.99853546 -1499.99999999 -2000.00300581 -2000.00127519]\n",
      " [-1999.87665993 -1999.99999979 -1067.41318633 -1986.15395558]\n",
      " [-1604.23513902 -2000.0000066  -2077.14124076 11174.58542179]]\n"
     ]
    }
   ],
   "source": [
    "print(E)"
   ]
  },
  {
   "cell_type": "code",
   "execution_count": 181,
   "metadata": {},
   "outputs": [
    {
     "name": "stdout",
     "output_type": "stream",
     "text": [
      "(None,)\n",
      "tensor([[0.1230, 0.0589, 0.1226,  ..., 0.1691, 0.1502, 0.1511],\n",
      "        [0.0409, 0.1272, 0.1587,  ..., 0.1310, 0.0977, 0.0404],\n",
      "        [0.1397, 0.1351, 0.0752,  ..., 0.0238, 0.1212, 0.0904],\n",
      "        ...,\n",
      "        [0.1804, 0.1310, 0.0547,  ..., 0.0296, 0.0019, 0.1370],\n",
      "        [0.0610, 0.0441, 0.0208,  ..., 0.0543, 0.2451, 0.0335],\n",
      "        [0.0907, 0.1313, 0.1121,  ..., 0.1068, 0.0377, 0.1005]],\n",
      "       dtype=torch.float64, requires_grad=True)\n"
     ]
    },
    {
     "ename": "ValueError",
     "evalue": "The truth value of an array with more than one element is ambiguous. Use a.any() or a.all()",
     "output_type": "error",
     "traceback": [
      "\u001b[0;31m---------------------------------------------------------------------------\u001b[0m",
      "\u001b[0;31mValueError\u001b[0m                                Traceback (most recent call last)",
      "\u001b[0;32m<ipython-input-181-045fc527b63a>\u001b[0m in \u001b[0;36m<module>\u001b[0;34m\u001b[0m\n\u001b[1;32m     26\u001b[0m             \u001b[0;32mbreak\u001b[0m\u001b[0;34m\u001b[0m\u001b[0;34m\u001b[0m\u001b[0m\n\u001b[1;32m     27\u001b[0m \u001b[0;34m\u001b[0m\u001b[0m\n\u001b[0;32m---> 28\u001b[0;31m \u001b[0mGradientDescent\u001b[0m\u001b[0;34m(\u001b[0m\u001b[0;34m)\u001b[0m\u001b[0;34m\u001b[0m\u001b[0;34m\u001b[0m\u001b[0m\n\u001b[0m",
      "\u001b[0;32m<ipython-input-181-045fc527b63a>\u001b[0m in \u001b[0;36mGradientDescent\u001b[0;34m()\u001b[0m\n\u001b[1;32m     23\u001b[0m         \u001b[0;31m######################################\u001b[0m\u001b[0;34m\u001b[0m\u001b[0;34m\u001b[0m\u001b[0;34m\u001b[0m\u001b[0m\n\u001b[1;32m     24\u001b[0m         \u001b[0;31m#E = ######################################\u001b[0m\u001b[0;34m\u001b[0m\u001b[0;34m\u001b[0m\u001b[0;34m\u001b[0m\u001b[0m\n\u001b[0;32m---> 25\u001b[0;31m         \u001b[0;32mif\u001b[0m \u001b[0mnp\u001b[0m\u001b[0;34m.\u001b[0m\u001b[0mabs\u001b[0m\u001b[0;34m(\u001b[0m\u001b[0mE\u001b[0m \u001b[0;34m-\u001b[0m \u001b[0mEOld\u001b[0m\u001b[0;34m)\u001b[0m \u001b[0;34m<\u001b[0m \u001b[0meta\u001b[0m\u001b[0;34m:\u001b[0m\u001b[0;34m\u001b[0m\u001b[0;34m\u001b[0m\u001b[0m\n\u001b[0m\u001b[1;32m     26\u001b[0m             \u001b[0;32mbreak\u001b[0m\u001b[0;34m\u001b[0m\u001b[0;34m\u001b[0m\u001b[0m\n\u001b[1;32m     27\u001b[0m \u001b[0;34m\u001b[0m\u001b[0m\n",
      "\u001b[0;31mValueError\u001b[0m: The truth value of an array with more than one element is ambiguous. Use a.any() or a.all()"
     ]
    }
   ],
   "source": [
    "# begin gradient descent\n",
    "lambda_ = 1\n",
    "YW = W\n",
    "YC = C\n",
    "\n",
    "def GradientDescent():\n",
    "    while flag == 1:\n",
    "        EOld = E\n",
    "        lambdaNew_ = (1 + np.sqrt(1 + 4 * lambda_^2)) / 2\n",
    "        gama = (1 - lambdaNew_) / lambda_\n",
    "        functionE = torch.from_numpy(E)\n",
    "        functionW = torch.from_numpy(W)\n",
    "        functionW.requires_grad_(True)\n",
    "        functionE.requires_grad_(True)\n",
    "        grad = torch.autograd.grad(functionE[2][2],functionW, allow_unused = True)\n",
    "        print(grad)\n",
    "        print(functionW) ######error\n",
    "        YWNew = W - eta * grad\n",
    "        W = (1 - gama) * YWNew + gama * YW\n",
    "        for j in range(numOfGaussian):\n",
    "            ######################################\n",
    "            ######################################\n",
    "        E = GenerateE()\n",
    "        if np.abs(E - EOld) < eta:\n",
    "            break\n",
    "            \n",
    "GradientDescent()"
   ]
  },
  {
   "cell_type": "code",
   "execution_count": 180,
   "metadata": {},
   "outputs": [
    {
     "name": "stdout",
     "output_type": "stream",
     "text": [
      "(tensor([ 4., 96.,  0.], dtype=torch.float64),)\n"
     ]
    }
   ],
   "source": [
    "# From numpy\n",
    "x = np.array([1., 2., 3.]) #Only Tensors of floating point dtype can require gradients\n",
    "x = torch.from_numpy(x)\n",
    "# Now enable gradient \n",
    "x.requires_grad_(True)\n",
    "z = x ** 2\n",
    "z.requires_grad_(True)\n",
    "# _ above makes the change in-place (its a common pytorch thing)\n",
    "y = 2 * z[0] + 3 * z[1]**2\n",
    "grad = torch.autograd.grad(y, x, allow_unused = True)\n",
    "print(grad)"
   ]
  },
  {
   "cell_type": "code",
   "execution_count": 145,
   "metadata": {},
   "outputs": [],
   "source": [
    "# helper functions\n",
    "def ImageChoosing(numEach, numOfClass):\n",
    "    selectedData = np.zeros((numEach * numOfClass, 256, 4))\n",
    "    selectedLabel = np.zeros(numEach * numOfClass)\n",
    "    count = np.zeros(numOfClass, dtype = int)\n",
    "    for i in range(label.size):\n",
    "        thisData = data[i]\n",
    "        thisLabel = label[i]\n",
    "        thisCount = count[thisLabel]\n",
    "        if thisCount < 100:\n",
    "            selectedData[thisLabel * 100 + thisCount] = data[i]\n",
    "            selectedLabel[thisLabel * 100 + thisCount] = label[i]\n",
    "            count[thisLabel] += 1\n",
    "        else:\n",
    "            exit = True\n",
    "            for j in range(10):\n",
    "                if count[j] < 100:\n",
    "                    exit = False\n",
    "            if exit:\n",
    "                break\n",
    "    return selectedData, selectedLabel\n",
    "\n",
    "def NormalizingW(W):\n",
    "    for i in range(W.shape[0]):\n",
    "        sumOfW = np.sum(W[i])\n",
    "        for j in range(W.shape[1]):\n",
    "            W[i][j] = W[i][j] / sumOfW\n",
    "    return W\n",
    "\n",
    "def GenerateX():\n",
    "    result = np.zeros((numOfClass * numOfImagesEachClass, 4, 4))\n",
    "    for i in range(numOfClass * numOfImagesEachClass):\n",
    "        thisData = selectedData[i]\n",
    "        gmm = GaussianMixture(n_components = 1)\n",
    "        gmm.fit(thisData)\n",
    "        means = gmm.means_\n",
    "        covariances = gmm.covariances_\n",
    "        result[i] = covariances\n",
    "    return result\n",
    "\n",
    "def GenerateXhat():\n",
    "    result = np.zeros((numOfClass * numOfImagesEachClass, 4, 4))\n",
    "    for i in range(numOfClass * numOfImagesEachClass):\n",
    "        A = 0\n",
    "        B = 0\n",
    "        for j in range(numOfGaussian):\n",
    "            A += W[i][j] * C[j]\n",
    "            B += W[i][j] * np.linalg.inv(C[j])\n",
    "        firstTerm = sqrtMatrix(np.linalg.inv(B))\n",
    "        secondTerm = sqrtMatrix(np.dot(np.dot(sqrtMatrix(B),A),sqrtMatrix(B)))\n",
    "        thirdTerm = firstTerm\n",
    "        result[i] = np.dot(np.dot(firstTerm, secondTerm), thirdTerm)\n",
    "    return result\n",
    "\n",
    "def sqrtMatrix(matrix):\n",
    "    u, s, vt = np.linalg.svd(matrix)\n",
    "    newS = np.sqrt(s)\n",
    "    resultS = np.zeros((newS.shape[0], newS.shape[0]))\n",
    "    for i in range(newS.shape[0]):\n",
    "        resultS[i][i] = newS[i]\n",
    "    return np.dot(np.dot(u, resultS), vt)\n",
    "    \n",
    "def GenerateE():\n",
    "    E = 0\n",
    "    for i in range(numOfClass * numOfImagesEachClass):\n",
    "        E += (1 / 4) * (np.dot(np.linalg.inv(X[i]), Xhat[i]) + np.dot(np.linalg.inv(Xhat[i]), X[i]) - 8)\n",
    "    return E"
   ]
  }
 ],
 "metadata": {
  "kernelspec": {
   "display_name": "Python 3",
   "language": "python",
   "name": "python3"
  },
  "language_info": {
   "codemirror_mode": {
    "name": "ipython",
    "version": 3
   },
   "file_extension": ".py",
   "mimetype": "text/x-python",
   "name": "python",
   "nbconvert_exporter": "python",
   "pygments_lexer": "ipython3",
   "version": "3.7.3"
  }
 },
 "nbformat": 4,
 "nbformat_minor": 2
}
