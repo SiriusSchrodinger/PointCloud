{
 "cells": [
  {
   "cell_type": "code",
   "execution_count": 1,
   "metadata": {},
   "outputs": [],
   "source": [
    "import h5py\n",
    "import torch\n",
    "from pykeops.torch import LazyTensor\n",
    "import matplotlib\n",
    "import matplotlib.pyplot as plt\n",
    "from mpl_toolkits.mplot3d import Axes3D\n",
    "from sklearn.mixture import GaussianMixture\n",
    "from matplotlib.patches import Ellipse\n",
    "import numpy as np\n",
    "from math import pi, cos, sin\n",
    "from scipy.integrate import quad\n",
    "from sklearn.manifold import TSNE"
   ]
  },
  {
   "cell_type": "code",
   "execution_count": 2,
   "metadata": {},
   "outputs": [],
   "source": [
    "f = h5py.File('./MNIST data/train_0.h5', 'r')\n",
    "data = f['data']\n",
    "label = f['label']"
   ]
  },
  {
   "cell_type": "code",
   "execution_count": 3,
   "metadata": {},
   "outputs": [],
   "source": [
    "# parameters\n",
    "numOfClass = 10\n",
    "numOfImagesEachClass = 100\n",
    "numOfGaussian = 10\n",
    "etaW = 1e-3\n",
    "etaC = 1e-2\n",
    "epsilon = 1"
   ]
  },
  {
   "cell_type": "code",
   "execution_count": 5,
   "metadata": {},
   "outputs": [],
   "source": [
    "# data cleaning: choose images from each of the classes\n",
    "selectedData, selectedLabel = ImageChoosing(numOfImagesEachClass, numOfClass)\n",
    "\n",
    "# putting 1000 images together\n",
    "finalData = np.zeros((256 * numOfImagesEachClass * numOfClass, 4))\n",
    "finalData = selectedData.reshape((256 * numOfImagesEachClass * numOfClass, 4))"
   ]
  },
  {
   "cell_type": "code",
   "execution_count": 6,
   "metadata": {
    "scrolled": true
   },
   "outputs": [
    {
     "data": {
      "text/plain": [
       "tensor([[[ 1.0254e-01, -1.0172e-10, -6.5024e-03, -9.5170e-03],\n",
       "         [-1.0172e-10,  1.0000e-06,  3.9966e-11,  2.3592e-11],\n",
       "         [-6.5024e-03,  3.9966e-11,  5.7827e-02,  1.5372e-03],\n",
       "         [-9.5170e-03,  2.3592e-11,  1.5372e-03,  4.9389e-02]],\n",
       "\n",
       "        [[ 1.6869e-02, -4.5345e-11, -1.8350e-03, -2.2840e-05],\n",
       "         [-4.5345e-11,  1.0000e-06,  2.0341e-10,  3.2203e-13],\n",
       "         [-1.8350e-03,  2.0341e-10,  9.0035e-02,  5.9610e-06],\n",
       "         [-2.2840e-05,  3.2203e-13,  5.9610e-06,  1.6763e-05]],\n",
       "\n",
       "        [[ 8.0517e-02,  4.9278e-11,  9.9877e-03, -7.6654e-03],\n",
       "         [ 4.9278e-11,  1.0000e-06,  2.1197e-11, -1.7911e-11],\n",
       "         [ 9.9877e-03,  2.1197e-11,  6.7267e-02, -3.0416e-03],\n",
       "         [-7.6654e-03, -1.7911e-11, -3.0416e-03,  7.3761e-03]],\n",
       "\n",
       "        [[ 9.0149e-02,  2.5793e-11, -4.4032e-03, -4.5932e-05],\n",
       "         [ 2.5793e-11,  1.0000e-06,  9.1025e-11,  5.3471e-14],\n",
       "         [-4.4032e-03,  9.1025e-11,  1.1156e-01, -3.7898e-05],\n",
       "         [-4.5932e-05,  5.3471e-14, -3.7898e-05,  1.4472e-05]],\n",
       "\n",
       "        [[ 1.2211e-01,  4.7317e-11, -1.0151e-02, -2.1111e-04],\n",
       "         [ 4.7317e-11,  1.0000e-06,  3.5066e-11, -4.3817e-13],\n",
       "         [-1.0151e-02,  3.5066e-11,  1.1037e-01, -3.5546e-04],\n",
       "         [-2.1111e-04, -4.3817e-13, -3.5546e-04,  1.0039e-03]],\n",
       "\n",
       "        [[ 1.2142e-02,  2.1082e-11,  2.3667e-04, -8.8084e-05],\n",
       "         [ 2.1082e-11,  1.0000e-06,  4.7508e-11,  5.2807e-13],\n",
       "         [ 2.3667e-04,  4.7508e-11,  9.5904e-02,  1.2765e-04],\n",
       "         [-8.8084e-05,  5.2807e-13,  1.2765e-04,  1.6784e-05]],\n",
       "\n",
       "        [[ 6.4827e-02, -2.1815e-11,  4.9229e-03,  9.6195e-04],\n",
       "         [-2.1815e-11,  1.0000e-06, -3.9634e-11, -3.8092e-11],\n",
       "         [ 4.9229e-03, -3.9634e-11,  6.6774e-02, -5.4508e-04],\n",
       "         [ 9.6195e-04, -3.8092e-11, -5.4508e-04,  4.7268e-02]],\n",
       "\n",
       "        [[ 4.6160e-02, -2.0377e-11, -1.4260e-02, -6.8666e-03],\n",
       "         [-2.0377e-11,  1.0000e-06,  4.2684e-12,  5.3315e-12],\n",
       "         [-1.4260e-02,  4.2684e-12,  1.2992e-01,  2.6611e-03],\n",
       "         [-6.8666e-03,  5.3315e-12,  2.6611e-03,  4.5434e-02]],\n",
       "\n",
       "        [[ 2.0013e-02, -4.0563e-11,  7.2909e-03, -7.7774e-04],\n",
       "         [-4.0563e-11,  1.0000e-06,  5.5712e-11, -5.8010e-12],\n",
       "         [ 7.2909e-03,  5.5712e-11,  6.0054e-02, -8.1265e-04],\n",
       "         [-7.7774e-04, -5.8010e-12, -8.1265e-04,  4.8819e-03]],\n",
       "\n",
       "        [[ 2.2554e-02,  3.3691e-11, -5.7464e-03,  9.3136e-04],\n",
       "         [ 3.3691e-11,  1.0000e-06,  9.2263e-11, -8.0598e-12],\n",
       "         [-5.7464e-03,  9.2263e-11,  1.0951e-01, -1.6884e-03],\n",
       "         [ 9.3136e-04, -8.0598e-12, -1.6884e-03,  4.9593e-03]]],\n",
       "       dtype=torch.float64, requires_grad=True)"
      ]
     },
     "execution_count": 6,
     "metadata": {},
     "output_type": "execute_result"
    }
   ],
   "source": [
    "# initializing C\n",
    "gmm = GaussianMixture(n_components = numOfGaussian)\n",
    "gmm.fit(finalData)\n",
    "means = gmm.means_\n",
    "covariances = gmm.covariances_\n",
    "C = covariances\n",
    "C = torch.from_numpy(C)\n",
    "C.requires_grad_(True)"
   ]
  },
  {
   "cell_type": "code",
   "execution_count": 7,
   "metadata": {},
   "outputs": [
    {
     "name": "stdout",
     "output_type": "stream",
     "text": [
      "tensor([[0.1133, 0.0489, 0.0999,  ..., 0.1555, 0.0417, 0.1349],\n",
      "        [0.1231, 0.1243, 0.0755,  ..., 0.0487, 0.1203, 0.0594],\n",
      "        [0.0701, 0.1650, 0.0258,  ..., 0.0597, 0.2229, 0.0149],\n",
      "        ...,\n",
      "        [0.2290, 0.1129, 0.0765,  ..., 0.0125, 0.0154, 0.1164],\n",
      "        [0.0570, 0.1471, 0.0754,  ..., 0.1179, 0.1229, 0.1335],\n",
      "        [0.0704, 0.0821, 0.0712,  ..., 0.1060, 0.1834, 0.0265]],\n",
      "       dtype=torch.float64, requires_grad=True)\n"
     ]
    }
   ],
   "source": [
    "# initializing W\n",
    "W = np.random.random_sample((numOfClass * numOfImagesEachClass, numOfGaussian))\n",
    "\n",
    "# normalizing W\n",
    "W = torch.from_numpy(W)\n",
    "temp = NormalizingW(W)\n",
    "W = temp\n",
    "W.requires_grad_(True)\n",
    "W.retain_grad()\n",
    "print(W)"
   ]
  },
  {
   "cell_type": "code",
   "execution_count": null,
   "metadata": {},
   "outputs": [],
   "source": [
    "# graph\n",
    "graphW = np.random.random_sample((numOfClass * numOfImagesEachClass, numOfGaussian))\n",
    "for i in range(graphW.shape[0]):\n",
    "    for j in range(graphW.shape[1]):\n",
    "        graphW[i][j] = W[i][j]\n",
    "tsne = TSNE(n_components=2, random_state=0)\n",
    "W_2d = tsne.fit_transform(graphW)\n",
    "target_ids = range(numOfClass * numOfImagesEachClass)\n",
    "\n",
    "from matplotlib import pyplot as plt\n",
    "plt.figure(figsize=(6, 5))\n",
    "label = selectedLabel.astype(int)\n",
    "colors = ['r', 'g', 'b', 'c', 'm', 'y', 'k', 'yellow', 'orange', 'purple']\n",
    "for i in range(numOfClass * numOfImagesEachClass):\n",
    "    plt.scatter(W_2d[i,0], W_2d[i,1], color = colors[label[i]])\n",
    "plt.legend()\n",
    "plt.show()"
   ]
  },
  {
   "cell_type": "code",
   "execution_count": 8,
   "metadata": {},
   "outputs": [],
   "source": [
    "# initializing flag\n",
    "flag = 1\n",
    "\n",
    "# compute X\n",
    "X = GenerateX()\n",
    "X = torch.from_numpy(X)\n",
    "\n",
    "# compute Xhat\n",
    "Xhat = GenerateXhat()"
   ]
  },
  {
   "cell_type": "code",
   "execution_count": 9,
   "metadata": {},
   "outputs": [
    {
     "data": {
      "text/plain": [
       "tensor(8856.5335, dtype=torch.float64, grad_fn=<TraceBackward>)"
      ]
     },
     "execution_count": 9,
     "metadata": {},
     "output_type": "execute_result"
    }
   ],
   "source": [
    "# compute objective function E\n",
    "E = GenerateE()\n",
    "E.requires_grad_(True)"
   ]
  },
  {
   "cell_type": "code",
   "execution_count": 10,
   "metadata": {
    "scrolled": false
   },
   "outputs": [
    {
     "name": "stdout",
     "output_type": "stream",
     "text": [
      "Error of iteration 1 is: 8856.533521764843\n",
      "Error of iteration 2 is: 7728.3553831674035\n",
      "Error of iteration 3 is: 7759.703750067056\n",
      "Error of iteration 4 is: 7350.892297558691\n"
     ]
    },
    {
     "ename": "KeyboardInterrupt",
     "evalue": "",
     "output_type": "error",
     "traceback": [
      "\u001b[0;31m---------------------------------------------------------------------------\u001b[0m",
      "\u001b[0;31mKeyboardInterrupt\u001b[0m                         Traceback (most recent call last)",
      "\u001b[0;32m<ipython-input-10-e38a543a0076>\u001b[0m in \u001b[0;36m<module>\u001b[0;34m\u001b[0m\n\u001b[1;32m     11\u001b[0m     \u001b[0mgama\u001b[0m \u001b[0;34m=\u001b[0m \u001b[0;34m(\u001b[0m\u001b[0;36m1\u001b[0m \u001b[0;34m-\u001b[0m \u001b[0mlambda_\u001b[0m\u001b[0;34m)\u001b[0m \u001b[0;34m/\u001b[0m \u001b[0mlambdaNew_\u001b[0m\u001b[0;34m\u001b[0m\u001b[0;34m\u001b[0m\u001b[0m\n\u001b[1;32m     12\u001b[0m     \u001b[0mlambda_\u001b[0m \u001b[0;34m=\u001b[0m \u001b[0mlambdaNew_\u001b[0m\u001b[0;34m\u001b[0m\u001b[0;34m\u001b[0m\u001b[0m\n\u001b[0;32m---> 13\u001b[0;31m     \u001b[0mWGrad\u001b[0m \u001b[0;34m=\u001b[0m \u001b[0mtorch\u001b[0m\u001b[0;34m.\u001b[0m\u001b[0mautograd\u001b[0m\u001b[0;34m.\u001b[0m\u001b[0mgrad\u001b[0m\u001b[0;34m(\u001b[0m\u001b[0mE\u001b[0m\u001b[0;34m,\u001b[0m \u001b[0mW\u001b[0m\u001b[0;34m,\u001b[0m \u001b[0mcreate_graph\u001b[0m \u001b[0;34m=\u001b[0m \u001b[0;32mTrue\u001b[0m\u001b[0;34m,\u001b[0m \u001b[0mallow_unused\u001b[0m \u001b[0;34m=\u001b[0m \u001b[0;32mTrue\u001b[0m\u001b[0;34m)\u001b[0m\u001b[0;34m[\u001b[0m\u001b[0;36m0\u001b[0m\u001b[0;34m]\u001b[0m\u001b[0;34m\u001b[0m\u001b[0;34m\u001b[0m\u001b[0m\n\u001b[0m\u001b[1;32m     14\u001b[0m     \u001b[0mCGrad\u001b[0m \u001b[0;34m=\u001b[0m \u001b[0mtorch\u001b[0m\u001b[0;34m.\u001b[0m\u001b[0mautograd\u001b[0m\u001b[0;34m.\u001b[0m\u001b[0mgrad\u001b[0m\u001b[0;34m(\u001b[0m\u001b[0mE\u001b[0m\u001b[0;34m,\u001b[0m \u001b[0mC\u001b[0m\u001b[0;34m,\u001b[0m \u001b[0mcreate_graph\u001b[0m \u001b[0;34m=\u001b[0m \u001b[0;32mTrue\u001b[0m\u001b[0;34m,\u001b[0m \u001b[0mallow_unused\u001b[0m \u001b[0;34m=\u001b[0m \u001b[0;32mTrue\u001b[0m\u001b[0;34m)\u001b[0m\u001b[0;34m[\u001b[0m\u001b[0;36m0\u001b[0m\u001b[0;34m]\u001b[0m\u001b[0;34m\u001b[0m\u001b[0;34m\u001b[0m\u001b[0m\n\u001b[1;32m     15\u001b[0m     \u001b[0mCGrad\u001b[0m \u001b[0;34m=\u001b[0m \u001b[0mNormalizingCGrad\u001b[0m\u001b[0;34m(\u001b[0m\u001b[0mCGrad\u001b[0m\u001b[0;34m)\u001b[0m\u001b[0;34m\u001b[0m\u001b[0;34m\u001b[0m\u001b[0m\n",
      "\u001b[0;32m~/anaconda3/lib/python3.7/site-packages/torch/autograd/__init__.py\u001b[0m in \u001b[0;36mgrad\u001b[0;34m(outputs, inputs, grad_outputs, retain_graph, create_graph, only_inputs, allow_unused)\u001b[0m\n\u001b[1;32m    155\u001b[0m     return Variable._execution_engine.run_backward(\n\u001b[1;32m    156\u001b[0m         \u001b[0moutputs\u001b[0m\u001b[0;34m,\u001b[0m \u001b[0mgrad_outputs\u001b[0m\u001b[0;34m,\u001b[0m \u001b[0mretain_graph\u001b[0m\u001b[0;34m,\u001b[0m \u001b[0mcreate_graph\u001b[0m\u001b[0;34m,\u001b[0m\u001b[0;34m\u001b[0m\u001b[0;34m\u001b[0m\u001b[0m\n\u001b[0;32m--> 157\u001b[0;31m         inputs, allow_unused)\n\u001b[0m\u001b[1;32m    158\u001b[0m \u001b[0;34m\u001b[0m\u001b[0m\n\u001b[1;32m    159\u001b[0m \u001b[0;34m\u001b[0m\u001b[0m\n",
      "\u001b[0;31mKeyboardInterrupt\u001b[0m: "
     ]
    }
   ],
   "source": [
    "# begin gradient descent\n",
    "lambda_ = 0\n",
    "YCNew = C\n",
    "YW = torch.sqrt(W)\n",
    "YWNew = W\n",
    "\n",
    "while True:\n",
    "    print(\"Error of iteration\", flag, \"is:\", E.item())\n",
    "    EOld = E\n",
    "    lambdaNew_ = (1 + np.sqrt(1 + 4 * np.power(lambda_, 2))) / 2\n",
    "    gama = (1 - lambda_) / lambdaNew_\n",
    "    lambda_ = lambdaNew_\n",
    "    WGrad = torch.autograd.grad(E, W, create_graph = True, allow_unused = True)[0]\n",
    "    CGrad = torch.autograd.grad(E, C, create_graph = True, allow_unused = True)[0]\n",
    "    CGrad = NormalizingCGrad(CGrad)\n",
    "    WGrad = NormalizingWGrad(WGrad)\n",
    "    YWNew = YW - torch.mul(WGrad, etaW)\n",
    "    YWNew = (1 - gama) * YWNew + gama * YW\n",
    "    YW = YWNew\n",
    "    W = torch.pow(YWNew, 2)\n",
    "    NormalizingW(W)\n",
    "    for j in range(numOfGaussian):\n",
    "        YCNew[j] = ExponentialMap(C[j], - etaC * CGrad[j])\n",
    "        C[j] = ExponentialMap(YCNew[j], gama * LogMap(YCNew[j], C[j]))\n",
    "    Xhat = GenerateXhat()\n",
    "    E = GenerateE()\n",
    "    if torch.abs(E - EOld) < epsilon:\n",
    "        print(\"The Final Error is:\", E.item())\n",
    "        break\n",
    "    flag += 1"
   ]
  },
  {
   "cell_type": "code",
   "execution_count": null,
   "metadata": {},
   "outputs": [],
   "source": [
    "# graph tsne\n",
    "graphW = np.random.random_sample((numOfClass * numOfImagesEachClass, numOfGaussian))\n",
    "for i in range(graphW.shape[0]):\n",
    "    for j in range(graphW.shape[1]):\n",
    "        graphW[i][j] = W[i][j]\n",
    "tsne = TSNE(n_components=2, random_state=0)\n",
    "W_2d = tsne.fit_transform(graphW)\n",
    "target_ids = range(numOfClass * numOfImagesEachClass)\n",
    "\n",
    "plt.figure(figsize=(6, 5))\n",
    "label = selectedLabel.astype(int)\n",
    "colors = ['r', 'g', 'b', 'c', 'm', 'y', 'k', 'yellow', 'orange', 'purple']\n",
    "for i in range(numOfClass * numOfImagesEachClass):\n",
    "    plt.scatter(W_2d[i,0], W_2d[i,1], color = colors[label[i]])\n",
    "plt.legend()\n",
    "plt.show()"
   ]
  },
  {
   "cell_type": "code",
   "execution_count": 4,
   "metadata": {},
   "outputs": [],
   "source": [
    "# helper functions\n",
    "def ImageChoosing(numEach, numOfClass):\n",
    "    selectedData = np.zeros((numEach * numOfClass, 256, 4))\n",
    "    selectedLabel = np.zeros(numEach * numOfClass)\n",
    "    count = np.zeros(numOfClass, dtype = int)\n",
    "    for i in range(label.size):\n",
    "        thisData = data[i]\n",
    "        thisLabel = label[i]\n",
    "        thisCount = count[thisLabel]\n",
    "        if thisCount < 100:\n",
    "            selectedData[thisLabel * 100 + thisCount] = data[i]\n",
    "            selectedLabel[thisLabel * 100 + thisCount] = label[i]\n",
    "            count[thisLabel] += 1\n",
    "        else:\n",
    "            exit = True\n",
    "            for j in range(10):\n",
    "                if count[j] < 100:\n",
    "                    exit = False\n",
    "            if exit:\n",
    "                break\n",
    "    return selectedData, selectedLabel\n",
    "\n",
    "def NormalizingW(W):\n",
    "    for i in range(W.shape[0]):\n",
    "        sumOfW = torch.sum(W[i])\n",
    "        for j in range(W.shape[1]):\n",
    "            W[i][j] = W[i][j] / sumOfW\n",
    "    return W\n",
    "\n",
    "def GenerateX():\n",
    "    result = np.zeros((numOfClass * numOfImagesEachClass, 4, 4))\n",
    "    for i in range(numOfClass * numOfImagesEachClass):\n",
    "        thisData = selectedData[i]\n",
    "        gmm = GaussianMixture(n_components = 1)\n",
    "        gmm.fit(thisData)\n",
    "        means = gmm.means_\n",
    "        covariances = gmm.covariances_\n",
    "        result[i] = covariances\n",
    "    return result\n",
    "\n",
    "def GenerateXhat():\n",
    "    result = np.zeros((numOfClass * numOfImagesEachClass, 4, 4))\n",
    "    result = torch.from_numpy(result)\n",
    "    for i in range(numOfClass * numOfImagesEachClass):\n",
    "        A = 0\n",
    "        B = 0\n",
    "        for j in range(numOfGaussian):\n",
    "            A += W[i][j] * C[j]\n",
    "            B += W[i][j] * torch.inverse(C[j])\n",
    "        firstTerm = sqrtMatrix(torch.inverse(B))\n",
    "        secondTerm = sqrtMatrix(torch.mm(torch.mm(sqrtMatrix(B),A),sqrtMatrix(B)))\n",
    "        thirdTerm = firstTerm\n",
    "        result[i] = torch.mm(torch.mm(firstTerm, secondTerm), thirdTerm)\n",
    "    return result\n",
    "\n",
    "def sqrtMatrix(matrix):\n",
    "    u, s, v = torch.svd(matrix)\n",
    "    newS = torch.sqrt(torch.diag(s))\n",
    "    return torch.mm(torch.mm(u, newS), v.t())\n",
    "    \n",
    "def GenerateE():\n",
    "    E = 0\n",
    "    for i in range(numOfClass * numOfImagesEachClass):\n",
    "        E += (1 / 4) * (torch.mm(torch.inverse(X[i]), Xhat[i]) + torch.mm(torch.inverse(Xhat[i]), X[i]) - 8)\n",
    "    return torch.trace(E)\n",
    "\n",
    "def ExponentialMap(x, V):\n",
    "    u, s, v = torch.svd(V)\n",
    "    temp = torch.exp(s)\n",
    "    newS = torch.diag(temp)\n",
    "    midTerm = torch.mm(torch.mm(u, newS), u.t())\n",
    "    return torch.mm(torch.mm(sqrtMatrix(x), midTerm), sqrtMatrix(x))\n",
    "\n",
    "def LogMap(x, Y):\n",
    "    u, s, v = torch.svd(Y)\n",
    "    newS = torch.diag(torch.log(s))\n",
    "    midTerm = torch.mm(torch.mm(u, newS), u.t())\n",
    "    return torch.mm(torch.mm(sqrtMatrix(x), midTerm), sqrtMatrix(x))\n",
    "    \n",
    "def NormalizingWGrad(grad):\n",
    "    temp = grad\n",
    "    for i in range(grad.shape[0]):\n",
    "        sumOfGrad = torch.sum(grad[i])\n",
    "        for j in range(grad.shape[1]):\n",
    "            temp[i][j] = grad[i][j] / sumOfGrad\n",
    "    return temp\n",
    "\n",
    "def NormalizingCGrad(grad):\n",
    "    temp = grad\n",
    "    for i in range(grad.shape[0]):\n",
    "        sumOfGrad = torch.sum(grad[i])\n",
    "        for j in range(grad.shape[1]):\n",
    "            for k in range(grad.shape[2]):\n",
    "                temp[i][j][k] = grad[i][j][k] / sumOfGrad\n",
    "    return temp\n",
    "\n",
    "def CheckW(W):\n",
    "    for i in range(W.shape[0]):\n",
    "        for j in range(W.shape[1]):\n",
    "            if W[i][j] < 0:\n",
    "                print(\"W has negative components on\", i)\n",
    "\n",
    "def CheckC(C):\n",
    "    for i in range(C.shape[0]):\n",
    "        for j in range(C.shape[1]):\n",
    "            if C[i][j][j] < 0:\n",
    "                print(\"C has negative components on the diag on the\", j, \"row of \", i, \"element\")\n",
    "\n",
    "def CheckYCNew(C):\n",
    "    for i in range(C.shape[0]):\n",
    "        for j in range(C.shape[1]):\n",
    "            if C[i][j][j] < 0:\n",
    "                print(\"YCNew has negative components on the diag on the\", j, \"row of \", i, \"element\")"
   ]
  },
  {
   "cell_type": "code",
   "execution_count": null,
   "metadata": {},
   "outputs": [],
   "source": [
    "print(W)"
   ]
  }
 ],
 "metadata": {
  "kernelspec": {
   "display_name": "Python 3",
   "language": "python",
   "name": "python3"
  },
  "language_info": {
   "codemirror_mode": {
    "name": "ipython",
    "version": 3
   },
   "file_extension": ".py",
   "mimetype": "text/x-python",
   "name": "python",
   "nbconvert_exporter": "python",
   "pygments_lexer": "ipython3",
   "version": "3.7.3"
  }
 },
 "nbformat": 4,
 "nbformat_minor": 2
}
